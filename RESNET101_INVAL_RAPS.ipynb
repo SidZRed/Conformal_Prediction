{
 "cells": [
  {
   "cell_type": "markdown",
   "metadata": {},
   "source": [
    "## Download the data set (only when you don't have it)"
   ]
  },
  {
   "cell_type": "code",
   "execution_count": null,
   "metadata": {},
   "outputs": [],
   "source": [
    "! wget -nv -O imagenet_val.tar.gz -L https://berkeley.box.com/shared/static/pouthcomrvxw9hj64oxhacjvqdw3ihlp.gz\n",
    "! mkdir imagenet_val\n",
    "! tar -xf imagenet_val.tar.gz -C ./imagenet_val/\n",
    "! mv imagenet_val/scratch/group/ilsvrc/val/* imagenet_val/\n",
    "! rm -r imagenet_val/scratch"
   ]
  },
  {
   "cell_type": "code",
   "execution_count": 52,
   "metadata": {},
   "outputs": [],
   "source": [
    "import torch\n",
    "from torchvision import models, transforms\n",
    "from torch.utils.data import DataLoader, random_split\n",
    "from tqdm import tqdm\n",
    "from torch.nn import functional as F\n",
    "import numpy as np\n",
    "import torchvision\n",
    "import matplotlib.pyplot as plt\n",
    "from torch import nn, optim\n",
    "from scipy.special import softmax"
   ]
  },
  {
   "cell_type": "code",
   "execution_count": 53,
   "metadata": {},
   "outputs": [
    {
     "name": "stdout",
     "output_type": "stream",
     "text": [
      "Using device: cpu\n"
     ]
    }
   ],
   "source": [
    "device = torch.device(\"cuda\" if torch.cuda.is_available() else \"cpu\")\n",
    "print(f\"Using device: {device}\")"
   ]
  },
  {
   "cell_type": "markdown",
   "metadata": {},
   "source": [
    "## Loading pretrained ResNet101 model"
   ]
  },
  {
   "cell_type": "code",
   "execution_count": 54,
   "metadata": {},
   "outputs": [],
   "source": [
    "model = models.resnet101(pretrained=True,progress=True)\n",
    "model.eval()\n",
    "model = model.to(device)\n",
    "\n",
    "transform = transforms.Compose([\n",
    "    transforms.Resize(256),\n",
    "    transforms.CenterCrop(224),\n",
    "    transforms.ToTensor(),\n",
    "    transforms.Normalize(\n",
    "        mean=[0.485, 0.456, 0.406],\n",
    "        std=[0.229, 0.224, 0.225]\n",
    "    ),\n",
    "])\n"
   ]
  },
  {
   "cell_type": "markdown",
   "metadata": {},
   "source": [
    "# Load the data set"
   ]
  },
  {
   "cell_type": "code",
   "execution_count": 55,
   "metadata": {},
   "outputs": [],
   "source": [
    "num_calib = 5000\n",
    "\n",
    "# Get the conformal calibration dataset\n",
    "imagenet_calib_data, imagenet_val_data ,imagenet_param_data= torch.utils.data.random_split(torchvision.datasets.ImageFolder('./imagenet_val/', transform), [num_calib,50000-num_calib-1000,1000])\n",
    "batch_size = 128\n",
    "\n",
    "# Reduce the size of the validation set to 10000\n",
    "imagenet_val_data = torch.utils.data.Subset(imagenet_val_data, range(10000))\n",
    "\n",
    "# Initialize loaders \n",
    "calib_loader = torch.utils.data.DataLoader(imagenet_calib_data, batch_size=batch_size, shuffle=True, pin_memory=True)\n",
    "test_loader = torch.utils.data.DataLoader(imagenet_val_data, batch_size=batch_size, shuffle=True, pin_memory=True)\n",
    "param_loader = torch.utils.data.DataLoader(imagenet_param_data, batch_size=batch_size, shuffle=True, pin_memory=True)"
   ]
  },
  {
   "cell_type": "markdown",
   "metadata": {},
   "source": [
    "# Testing the ResNet101 model"
   ]
  },
  {
   "cell_type": "code",
   "execution_count": 56,
   "metadata": {},
   "outputs": [],
   "source": [
    "def get_logits_and_labels(dataloader, model, device):\n",
    "    logits_list, labels_list = [], []\n",
    "    \n",
    "    with torch.no_grad():\n",
    "        for images, labels in tqdm(dataloader):\n",
    "            images = images.to(device)\n",
    "            outputs = model(images)  # Get logits\n",
    "            logits_list.append(outputs.cpu())\n",
    "            labels_list.append(labels)\n",
    "    return torch.cat(logits_list), torch.cat(labels_list)\n",
    "\n",
    "\n"
   ]
  },
  {
   "cell_type": "code",
   "execution_count": 57,
   "metadata": {},
   "outputs": [
    {
     "name": "stdout",
     "output_type": "stream",
     "text": [
      "Getting test logits...\n"
     ]
    },
    {
     "name": "stderr",
     "output_type": "stream",
     "text": [
      "100%|██████████| 79/79 [24:08<00:00, 18.33s/it]\n"
     ]
    }
   ],
   "source": [
    "print(\"Getting test logits...\")\n",
    "test_logits, test_labels = get_logits_and_labels(test_loader, model, device)"
   ]
  },
  {
   "cell_type": "markdown",
   "metadata": {},
   "source": [
    "## Compute Accuracy"
   ]
  },
  {
   "cell_type": "code",
   "execution_count": 58,
   "metadata": {},
   "outputs": [
    {
     "name": "stdout",
     "output_type": "stream",
     "text": [
      "ResNet101 Accuracy on ImageNet-Val test set: 77.40%\n"
     ]
    }
   ],
   "source": [
    "def compute_accuracy(logits, labels):\n",
    "    preds = torch.argmax(logits, dim=1)\n",
    "    correct = (preds == labels).sum().item()\n",
    "    return correct / len(labels)\n",
    "\n",
    "# Step 11: Compute test accuracy\n",
    "accuracy = compute_accuracy(test_logits, test_labels)\n",
    "print(f\"ResNet101 Accuracy on ImageNet-Val test set: {accuracy * 100:.2f}%\")\n"
   ]
  },
  {
   "cell_type": "markdown",
   "metadata": {},
   "source": [
    "# Function for Conformal Prediction Procedures"
   ]
  },
  {
   "cell_type": "code",
   "execution_count": 59,
   "metadata": {},
   "outputs": [],
   "source": [
    "\n",
    "\n",
    "def get_logits(model, dataloader, device):\n",
    "    model.eval()\n",
    "    logits_list, labels_list = [], []\n",
    "    with torch.no_grad():\n",
    "        for inputs, labels in dataloader:\n",
    "            inputs = inputs.to(device)\n",
    "            outputs = model(inputs)  \n",
    "            logits_list.append(outputs.cpu())\n",
    "            labels_list.append(labels)\n",
    "    return torch.cat(logits_list), torch.cat(labels_list)\n",
    "\n",
    "\n",
    "def temperature_scaling(logits, labels, max_iters=50, lr=0.01, epsilon=1e-4):\n",
    "    T = nn.Parameter(torch.tensor([1.3], requires_grad=True))\n",
    "    optimizer = optim.SGD([T], lr=lr)\n",
    "    criterion = nn.CrossEntropyLoss()\n",
    "\n",
    "    for i in range(max_iters):\n",
    "        optimizer.zero_grad()\n",
    "        scaled_logits = logits / T\n",
    "        loss = criterion(scaled_logits, labels)\n",
    "        loss.backward()\n",
    "        optimizer.step()\n",
    "        if abs(loss.item()) < epsilon:\n",
    "            break\n",
    "    return T.detach()\n",
    "\n",
    "def compute_scores(sorted_probs_list, sorted_indices_list, labels,\n",
    "                   lambda_reg=0.1, k_reg=5, randomized=True, allow_zero_sets=True):\n",
    "    scores = []\n",
    "    for i in range(len(labels)):\n",
    "        sorted_probs = sorted_probs_list[i]\n",
    "        sorted_indices = sorted_indices_list[i]\n",
    "        cumsum = np.cumsum(sorted_probs)\n",
    "\n",
    "        penalties = np.zeros_like(sorted_probs)\n",
    "        penalties[k_reg:] += lambda_reg\n",
    "        penalties_cumsum = np.cumsum(penalties)\n",
    "\n",
    "        target = labels[i].item()\n",
    "        rank = np.where(sorted_indices == target)[0][0]\n",
    "\n",
    "        if not randomized:\n",
    "            tau = cumsum[rank] + penalties_cumsum[rank]\n",
    "        else:\n",
    "            U = np.random.rand()\n",
    "            if rank == 0:\n",
    "                tau = U * cumsum[0] + penalties_cumsum[0] if allow_zero_sets else cumsum[0] + penalties_cumsum[0]\n",
    "            else:\n",
    "                tau = U * sorted_probs[rank] + cumsum[rank - 1] + penalties_cumsum[rank]\n",
    "\n",
    "        scores.append(tau)\n",
    "    return np.array(scores)\n",
    "\n",
    "\n",
    "def compute_threshold(scores, alpha):\n",
    "    return np.quantile(scores, 1 - alpha, method=\"higher\")\n",
    "\n",
    "def predict_set(sorted_probs, sorted_indices, tau, lambda_reg=0.1, k_reg=5, randomized=True, allow_zero_sets=True):\n",
    "    \n",
    "    cumsum = np.cumsum(sorted_probs)\n",
    "\n",
    "    penalties = np.zeros_like(sorted_probs)\n",
    "    penalties[k_reg:] += lambda_reg\n",
    "    penalties_cumsum = np.cumsum(penalties)\n",
    "\n",
    "    sizes_base = (cumsum + penalties_cumsum <= tau).sum() + 1\n",
    "    sizes_base = min(sizes_base, len(sorted_probs))\n",
    "\n",
    "    if randomized and sizes_base < len(sorted_probs):\n",
    "        V = 1 / sorted_probs[sizes_base - 1] * (\n",
    "            tau - (cumsum[sizes_base - 1] - sorted_probs[sizes_base - 1]) - penalties_cumsum[sizes_base - 1]\n",
    "        )\n",
    "        sizes = sizes_base - int(np.random.rand() >= V)\n",
    "    else:\n",
    "        sizes = sizes_base\n",
    "\n",
    "    if tau == 1.0:\n",
    "        sizes = len(sorted_probs)\n",
    "\n",
    "    if not allow_zero_sets and sizes == 0:\n",
    "        sizes = 1\n",
    "\n",
    "    sizes = max(sizes, 1)\n",
    "    return sorted_indices[:sizes].tolist()\n",
    "\n",
    "def platt_scaling(logits_data, T):\n",
    "    logits_data = logits_data.cpu().numpy()\n",
    "    sorted_probs = []\n",
    "    sorted_indices =[]\n",
    "    for i in range(len(logits_data)):\n",
    "        scaled_logits = logits_data[i] / T.item()\n",
    "        probs = softmax(scaled_logits)\n",
    "        sorted_indices.append(np.argsort(probs)[::-1])\n",
    "        sorted_probs.append(np.sort(probs)[::-1])\n",
    "\n",
    "    return sorted_probs, sorted_indices\n",
    "\n",
    "def optimal_k_reg(sorted_indices_list, labels, alpha):\n",
    "\n",
    "    ranks = []\n",
    "    for i in range(len(labels)):\n",
    "        true_label = labels[i].item()\n",
    "        rank = np.where(sorted_indices_list[i] == true_label)[0][0]\n",
    "        ranks.append(rank)\n",
    "\n",
    "    k_reg = compute_threshold(np.array(ranks), alpha=alpha)\n",
    "    return k_reg\n"
   ]
  },
  {
   "cell_type": "markdown",
   "metadata": {},
   "source": [
    "## Getting Logits"
   ]
  },
  {
   "cell_type": "code",
   "execution_count": 60,
   "metadata": {},
   "outputs": [],
   "source": [
    "# Hyperparameters\n",
    "lambda_reg = 0.01\n",
    "k_reg = 5\n",
    "randomized = True\n",
    "allow_zero_sets = True\n",
    "allow_optimal_k = True\n",
    "\n",
    "logits_calib, labels_calib = get_logits(model, calib_loader, device)\n",
    "logits_test, labels_test = get_logits(model, test_loader, device)\n",
    "\n",
    "T = temperature_scaling(logits_calib, labels_calib)\n",
    "\n",
    "sorted_probs_calib, sorted_indices_calib = platt_scaling(logits_calib, T)\n",
    "sorted_probs_test, sorted_indices_test = platt_scaling(logits_test, T)\n",
    "\n",
    "param_logits, param_labels = get_logits(model, param_loader, device)\n",
    "sorted_probs_param, sorted_indices_param = platt_scaling(param_logits, T)"
   ]
  },
  {
   "cell_type": "markdown",
   "metadata": {},
   "source": [
    "## Computing over values of alphas"
   ]
  },
  {
   "cell_type": "code",
   "execution_count": 61,
   "metadata": {},
   "outputs": [
    {
     "name": "stdout",
     "output_type": "stream",
     "text": [
      "Optimal k_reg for alpha 0.01: 32\n",
      "RAPS: Alpha 0.01, Size: 32.8399, Coverage: 0.9908\n",
      "Optimal k_reg for alpha 0.05: 6\n",
      "RAPS: Alpha 0.05, Size: 5.8158, Coverage: 0.9561\n",
      "Optimal k_reg for alpha 0.1: 2\n",
      "RAPS: Alpha 0.1, Size: 4.063, Coverage: 0.9293\n"
     ]
    }
   ],
   "source": [
    "alphas =  [0.01, 0.05, 0.1]\n",
    "\n",
    "average_sizes = {'RAPS': [], 'APS': [], 'Naive': []}\n",
    "average_coverages = {'RAPS': [], 'APS': [], 'Naive': []}\n",
    "\n",
    "\n",
    "for alpha in alphas:\n",
    "\n",
    "    # Optimal k_reg\n",
    "    k_reg = optimal_k_reg(sorted_indices_param, param_labels, alpha=alpha) if allow_optimal_k else k_reg\n",
    "    print(f\"Optimal k_reg for alpha {alpha}: {k_reg}\")    \n",
    "    \n",
    "\n",
    "    ########-------------RAPS------------#########\n",
    "    scores = compute_scores(sorted_probs_calib, sorted_indices_calib, labels_calib,lambda_reg=lambda_reg,\n",
    "                             k_reg=k_reg, randomized=randomized, allow_zero_sets=allow_zero_sets)\n",
    "\n",
    "    tau = compute_threshold(scores, alpha=alpha)\n",
    "\n",
    "\n",
    "    prediction_sets = [\n",
    "        predict_set(sorted_probs_test[i], sorted_indices_test[i], tau,lambda_reg=lambda_reg,\n",
    "                    k_reg=k_reg,randomized=randomized, allow_zero_sets=allow_zero_sets)\n",
    "        for i in range(len(sorted_probs_test))\n",
    "    ]\n",
    "\n",
    "    sizes = [len(pset) for pset in prediction_sets]\n",
    "    coverage = np.mean([\n",
    "        labels_test[i].item() in prediction_sets[i] for i in range(len(labels_test))\n",
    "    ])\n",
    "\n",
    "    average_sizes['RAPS'].append(np.mean(sizes))\n",
    "    average_coverages['RAPS'].append(coverage)\n",
    "\n",
    "    print(f\"RAPS: Alpha {alpha}, Size: {np.mean(sizes)}, Coverage: {coverage}\")\n",
    "\n",
    "\n",
    "    ###########-----APS(RAPS with lambda=0)---#######\n",
    "    \n",
    "    scores_aps = compute_scores(sorted_probs_calib, sorted_indices_calib, labels_calib,lambda_reg=0,\n",
    "                             k_reg=0, randomized=randomized, allow_zero_sets=allow_zero_sets)\n",
    "\n",
    "    tau_aps = compute_threshold(scores_aps, alpha=alpha)\n",
    "\n",
    "\n",
    "    prediction_sets_aps = [\n",
    "        predict_set(sorted_probs_test[i], sorted_indices_test[i], tau_aps,lambda_reg=0,\n",
    "                    k_reg=0,randomized=randomized, allow_zero_sets=allow_zero_sets)\n",
    "        for i in range(len(sorted_probs_test))\n",
    "    ]\n",
    "\n",
    "    sizes_aps = [len(pset) for pset in prediction_sets_aps]\n",
    "    coverage_aps = np.mean([ labels_test[i].item() in prediction_sets_aps[i] for i in range(len(labels_test))])\n",
    "\n",
    "    average_sizes['APS'].append(np.mean(sizes_aps))\n",
    "    average_coverages['APS'].append(coverage_aps)\n",
    "\n",
    "\n"
   ]
  },
  {
   "cell_type": "code",
   "execution_count": 62,
   "metadata": {},
   "outputs": [
    {
     "name": "stdout",
     "output_type": "stream",
     "text": [
      "Average Sizes:  {'RAPS': [np.float64(32.8399), np.float64(5.8158), np.float64(4.063)], 'APS': [np.float64(125.5746), np.float64(26.2594), np.float64(12.0528)], 'Naive': []}\n",
      "Done with method:  RAPS\n",
      "Done with method:  APS\n"
     ]
    },
    {
     "data": {
      "image/png": "[encoded data removed]",
      "text/plain": [
       "<Figure size 600x400 with 1 Axes>"
      ]
     },
     "metadata": {},
     "output_type": "display_data"
    }
   ],
   "source": [
    "methods = ['RAPS', 'APS']\n",
    "colors = ['#f6c49b', '#8dbde8']\n",
    "\n",
    "\n",
    "x = np.arange(len(alphas)) \n",
    "bar_width = 0.25\n",
    "\n",
    "print(\"Average Sizes: \", average_sizes)\n",
    "\n",
    "plt.figure(figsize=(6, 4))\n",
    "\n",
    "# Plot bars\n",
    "for i, method in enumerate(methods):\n",
    "    plt.bar(x + i * bar_width, average_sizes[method], width=bar_width, label=method, color=colors[i])\n",
    "    print(\"Done with method: \", method)\n",
    "\n",
    "# Formatting\n",
    "plt.xticks(x + bar_width, alphas)\n",
    "plt.xlabel('Alpha')\n",
    "plt.ylabel('Average Prediction Set Size')\n",
    "plt.title('Average Prediction Set Size vs Alpha')\n",
    "plt.legend()\n",
    "plt.grid(axis='y', linestyle='--', alpha=0.5)\n",
    "\n",
    "plt.tight_layout()\n",
    "plt.savefig('average_prediction_set_size.png')\n",
    "plt.show()"
   ]
  },
  {
   "cell_type": "code",
   "execution_count": 63,
   "metadata": {},
   "outputs": [
    {
     "data": {
      "image/png": "[encoded data removed]",
      "text/plain": [
       "<Figure size 600x400 with 1 Axes>"
      ]
     },
     "metadata": {},
     "output_type": "display_data"
    }
   ],
   "source": [
    "\n",
    "methods = [ 'APS', 'RAPS']\n",
    "colors = ['#f6c49b', '#a6d8a8']\n",
    "\n",
    "x = np.arange(len(alphas))\n",
    "bar_width = 0.25\n",
    "\n",
    "plt.figure(figsize=(6, 4))\n",
    "\n",
    "for i, method in enumerate(methods):\n",
    "    plt.bar(x + i * bar_width, average_coverages[method], width=bar_width, color=colors[i], label=method)\n",
    "\n",
    "for i, alpha in enumerate(alphas):\n",
    "    y = 1 - alpha\n",
    "    plt.axhline(y=y, color='k', linestyle='--', linewidth=1, alpha=0.4)\n",
    "    plt.text(len(alphas)-0.1, y + 0.002, f'1-α={y:.2f}', color='k', fontsize=8, alpha=0.6)\n",
    "\n",
    "plt.xticks(x + bar_width, alphas)\n",
    "plt.xlabel('Alpha')\n",
    "plt.ylabel('Coverage')\n",
    "plt.title('Coverage vs Alpha')\n",
    "plt.legend()\n",
    "plt.grid(axis='y', linestyle='--', alpha=0.5)\n",
    "\n",
    "plt.tight_layout()\n",
    "plt.savefig('coverage_bar.png', dpi=300)\n",
    "plt.show()"
   ]
  }
 ],
 "metadata": {
  "kernelspec": {
   "display_name": "venv",
   "language": "python",
   "name": "python3"
  },
  "language_info": {
   "codemirror_mode": {
    "name": "ipython",
    "version": 3
   },
   "file_extension": ".py",
   "mimetype": "text/x-python",
   "name": "python",
   "nbconvert_exporter": "python",
   "pygments_lexer": "ipython3",
   "version": "3.12.3"
  }
 },
 "nbformat": 4,
 "nbformat_minor": 2
}
