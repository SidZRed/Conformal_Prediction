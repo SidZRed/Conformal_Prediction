{
 "cells": [
  {
   "cell_type": "markdown",
   "metadata": {
    "id": "XpCfDaYeOY4n"
   },
   "source": [
    "## Download the data set (only once)"
   ]
  },
  {
   "cell_type": "code",
   "execution_count": 10,
   "metadata": {
    "colab": {
     "base_uri": "https://localhost:8080/"
    },
    "execution": {
     "iopub.execute_input": "2025-04-14T12:58:42.348020Z",
     "iopub.status.busy": "2025-04-14T12:58:42.347685Z",
     "iopub.status.idle": "2025-04-14T13:00:51.190268Z",
     "shell.execute_reply": "2025-04-14T13:00:51.189157Z",
     "shell.execute_reply.started": "2025-04-14T12:58:42.347999Z"
    },
    "id": "66KtNHLKOY4p",
    "outputId": "474db2ec-ee56-40fa-c176-58c889dafd3a",
    "trusted": true
   },
   "outputs": [
    {
     "name": "stdout",
     "output_type": "stream",
     "text": [
      "2025-04-14 13:00:02 URL:https://public.boxcloud.com/d/1/b1!UAQmF14VkKfhwSnzkpgX8L2JJngTohxNi6Q8jI6jWDdpMsqj8TpqP3kzst5d3PdgVjXTToWZduNEU0DZtNiUNcxNayZCdE3erq6owzTm3QiKSJSj2Gm-SQUOlW2Y5MkMoifyo_U08MrZLwoiI_YxO7J9dDElvdR8PoIY7EZ2EGDisSPZKjHa0FeUg7nJJcjixyr8fUYMkWPai_bdbwHo78egR2wu_yu-lPWCamHShZAkawTTiV9pDU2Mwc0EC3NH6tZTox7XFwTgaNyESsuGr8dBy2O0_QcmvH1CVL-9KEWi7DyLRqqh0FKfVd8a--bbLLl-eU5oT36aewQp3DWeYEFkBONPRyj4J9poN1dQWhcfqES1SlD4M6t2xLEGHwlpWIfruS6dFj4lj541lLEnGhOwGDl6FQifn0MTbiFzHZsXdtaqBy6r8QniMJpWhFktEQNlXwwMk17gfh8y5pQ6dZigxz4leomI0NitsZV5y8sNUJCSKowR-nE1NRaf-d0fzHOR_fOjK7HqJvSAj9xCXc5yjwWYJegdXU7J6Ym-EHEOkWILAG7P3fawXAwEFjh0q0lqPjUEaCBfduNl1W4kJO84OJWn8HF51XwofDOtqBq0f0bzWE2mv4kJdydQN4XxvZ9kXaQ7jAEfr-cty850QF2bPKfzXkEeXzwync7dxHKYDh5ZdB5sIEd5WaVapShnw_MnTwoOmNY6sA17TzKgGfASH8l9o6nsYVqD4uIseP1-ksWy4MnXTXSfmU3AFCSzRKmhnyI8eL8l_JRMNYb0xOi9YP0tMqcYDsvTZjhQvRJ4RfnASXUOEB-fp2yktrT3bSzwzhgKpZeG_AdfrNz3rD5aRT0KWq3cuPlEgYEDCjNWtoc6btIF803d-4-7f7ydwM3kE7dVQfQCVF8V37VCqIULv_ATfi36g5e6fGumMpTYogRBxBHr9UVWGSjTvcEhtnnD9bmqebSpyi5MtroFtIBhX6bHVzr5OH5QBF-YPawl3AlgbkVGGG4t9YnaRe4CcSnowf2AuUMxteW-7NLsatoXOFOywU2v-fK8tMY9Xgh0KTfu84cGrxj_T-VUS76OtObQrPsDyVYYhHuyhRZfiLf3JWb79YeUljRA05HN8DNaVvkqLLreF5CTSmSAbLkNnKbtBZWC3V3SRKwcSoPdBrV7DZ3zCZJfGV3MYuOsJQqxgzy4IjQNPZg-bTUlVWmwLwovYD4KacAqKhnf3BbKUp_i1lg_13JmiWH2VJMqnMXxgnMV2isE4X1dmK0Q96oKEf4rn_IfpAPqb71k6SpMF1QnvF67S5Q14Wg8JC4BQjqjv5DJCuZBPqnrzVJLc6AX65buWKCmRjIdK-molzIAFcZoQTgeGRWLuwCHUWBMq00X5MrigRuBaBYPm3ECTWAeTRMQApGnsDnW65dFMoT1DW_M61fe4MFisHAl9px5wkwl0JZhSRZe3k2PvbTkk6C7bQqF68mqIc8TntgHC3bFsSXIIREou96A2_AepI4GeB7iCsKHSGLko4TXizU./download [6666645191/6666645191] -> \"imagenet_val.tar.gz\" [1]\n"
     ]
    }
   ],
   "source": [
    "! wget -nv -O imagenet_val.tar.gz -L https://berkeley.box.com/shared/static/pouthcomrvxw9hj64oxhacjvqdw3ihlp.gz\n",
    "! mkdir imagenet_val\n",
    "! tar -xf imagenet_val.tar.gz -C ./imagenet_val/\n",
    "! mv imagenet_val/scratch/group/ilsvrc/val/* imagenet_val/\n",
    "! rm -r imagenet_val/scratch"
   ]
  },
  {
   "cell_type": "code",
   "execution_count": 11,
   "metadata": {
    "execution": {
     "iopub.execute_input": "2025-04-14T13:00:51.192552Z",
     "iopub.status.busy": "2025-04-14T13:00:51.192269Z",
     "iopub.status.idle": "2025-04-14T13:00:51.197631Z",
     "shell.execute_reply": "2025-04-14T13:00:51.196905Z",
     "shell.execute_reply.started": "2025-04-14T13:00:51.192529Z"
    },
    "id": "MS6JsWthOY4r",
    "trusted": true
   },
   "outputs": [],
   "source": [
    "import torch\n",
    "from torchvision import models, transforms\n",
    "from torch.utils.data import DataLoader, random_split\n",
    "from tqdm import tqdm\n",
    "from torch.nn import functional as F\n",
    "import numpy as np\n",
    "import torchvision\n",
    "import matplotlib.pyplot as plt\n",
    "from torch import nn, optim\n",
    "from scipy.special import softmax\n",
    "import seaborn as sns\n",
    "import pandas as pd"
   ]
  },
  {
   "cell_type": "code",
   "execution_count": 12,
   "metadata": {
    "colab": {
     "base_uri": "https://localhost:8080/"
    },
    "execution": {
     "iopub.execute_input": "2025-04-14T13:00:51.198659Z",
     "iopub.status.busy": "2025-04-14T13:00:51.198408Z",
     "iopub.status.idle": "2025-04-14T13:00:51.214688Z",
     "shell.execute_reply": "2025-04-14T13:00:51.213932Z",
     "shell.execute_reply.started": "2025-04-14T13:00:51.198636Z"
    },
    "id": "Hm3kXTcWOY4s",
    "outputId": "f6cf825c-04a5-493f-f989-75f9063bc186",
    "trusted": true
   },
   "outputs": [
    {
     "name": "stdout",
     "output_type": "stream",
     "text": [
      "Using device: cuda\n"
     ]
    }
   ],
   "source": [
    "device = torch.device(\"cuda\" if torch.cuda.is_available() else \"cpu\")\n",
    "print(f\"Using device: {device}\")"
   ]
  },
  {
   "cell_type": "markdown",
   "metadata": {
    "id": "bVBnRi9bOY4s"
   },
   "source": [
    "## Loading pretrained ResNet152 model"
   ]
  },
  {
   "cell_type": "code",
   "execution_count": 13,
   "metadata": {
    "colab": {
     "base_uri": "https://localhost:8080/"
    },
    "execution": {
     "iopub.execute_input": "2025-04-14T13:00:51.216659Z",
     "iopub.status.busy": "2025-04-14T13:00:51.216467Z",
     "iopub.status.idle": "2025-04-14T13:00:52.656466Z",
     "shell.execute_reply": "2025-04-14T13:00:52.655893Z",
     "shell.execute_reply.started": "2025-04-14T13:00:51.216644Z"
    },
    "id": "9u771Q9AOY4s",
    "outputId": "f2ae1eed-f72f-4c2c-cb70-aac797569853",
    "trusted": true
   },
   "outputs": [],
   "source": [
    "model = models.resnet152(pretrained=True,progress=True)\n",
    "model.eval()\n",
    "model = model.to(device)\n",
    "\n",
    "transform = transforms.Compose([\n",
    "    transforms.Resize(256),\n",
    "    transforms.CenterCrop(224),\n",
    "    transforms.ToTensor(),\n",
    "    transforms.Normalize(\n",
    "        mean=[0.485, 0.456, 0.406],\n",
    "        std=[0.229, 0.224, 0.225]\n",
    "    ),\n",
    "])\n"
   ]
  },
  {
   "cell_type": "markdown",
   "metadata": {
    "id": "vc_s2PaVOY4t"
   },
   "source": [
    "# Load the data set"
   ]
  },
  {
   "cell_type": "code",
   "execution_count": 14,
   "metadata": {
    "execution": {
     "iopub.execute_input": "2025-04-14T13:00:52.657842Z",
     "iopub.status.busy": "2025-04-14T13:00:52.657302Z",
     "iopub.status.idle": "2025-04-14T13:00:52.793500Z",
     "shell.execute_reply": "2025-04-14T13:00:52.792920Z",
     "shell.execute_reply.started": "2025-04-14T13:00:52.657819Z"
    },
    "id": "3EPbA9kLOY4t",
    "trusted": true
   },
   "outputs": [],
   "source": [
    "num_calib = 5000\n",
    "\n",
    "# Get the conformal calibration dataset\n",
    "imagenet_calib_data, imagenet_val_data ,imagenet_param_data= torch.utils.data.random_split(torchvision.datasets.ImageFolder('./imagenet_val/', transform), [num_calib,50000-num_calib-1000,1000])\n",
    "batch_size = 128\n",
    "\n",
    "# Reduce the size of the validation set to 10000\n",
    "imagenet_val_data = torch.utils.data.Subset(imagenet_val_data, range(10000))\n",
    "\n",
    "# Initialize loaders\n",
    "calib_loader = torch.utils.data.DataLoader(imagenet_calib_data, batch_size=batch_size, shuffle=True, pin_memory=True)\n",
    "test_loader = torch.utils.data.DataLoader(imagenet_val_data, batch_size=batch_size, shuffle=True, pin_memory=True)\n",
    "param_loader = torch.utils.data.DataLoader(imagenet_param_data, batch_size=batch_size, shuffle=True, pin_memory=True)"
   ]
  },
  {
   "cell_type": "markdown",
   "metadata": {
    "id": "SYb6ZulKOY4t"
   },
   "source": [
    "# Function for Conformal Prediction Procedures"
   ]
  },
  {
   "cell_type": "code",
   "execution_count": 15,
   "metadata": {
    "execution": {
     "iopub.execute_input": "2025-04-14T13:00:52.794393Z",
     "iopub.status.busy": "2025-04-14T13:00:52.794204Z",
     "iopub.status.idle": "2025-04-14T13:00:52.809644Z",
     "shell.execute_reply": "2025-04-14T13:00:52.809067Z",
     "shell.execute_reply.started": "2025-04-14T13:00:52.794381Z"
    },
    "id": "_18a1E1cOY4t",
    "trusted": true
   },
   "outputs": [],
   "source": [
    "\n",
    "\n",
    "def get_logits(model, dataloader, device):\n",
    "    model.eval()\n",
    "    logits_list, labels_list = [], []\n",
    "    with torch.no_grad():\n",
    "        for inputs, labels in dataloader:\n",
    "            inputs = inputs.to(device)\n",
    "            outputs = model(inputs)\n",
    "            logits_list.append(outputs.cpu())\n",
    "            labels_list.append(labels)\n",
    "    return torch.cat(logits_list), torch.cat(labels_list)\n",
    "\n",
    "\n",
    "def temperature_scaling(logits, labels, max_iters=50, lr=0.01, epsilon=1e-4):\n",
    "    T = nn.Parameter(torch.tensor([1.3], requires_grad=True))\n",
    "    optimizer = optim.SGD([T], lr=lr)\n",
    "    criterion = nn.CrossEntropyLoss()\n",
    "\n",
    "    for i in range(max_iters):\n",
    "        optimizer.zero_grad()\n",
    "        scaled_logits = logits / T\n",
    "        loss = criterion(scaled_logits, labels)\n",
    "        loss.backward()\n",
    "        optimizer.step()\n",
    "        if abs(loss.item()) < epsilon:\n",
    "            break\n",
    "    return T.detach()\n",
    "\n",
    "def compute_scores(sorted_probs_list, sorted_indices_list, labels,\n",
    "                   lambda_reg=0.1, k_reg=5, randomized=True, allow_zero_sets=True):\n",
    "    scores = []\n",
    "    for i in range(len(labels)):\n",
    "        sorted_probs = sorted_probs_list[i]\n",
    "        sorted_indices = sorted_indices_list[i]\n",
    "        cumsum = np.cumsum(sorted_probs)\n",
    "\n",
    "        penalties = np.zeros_like(sorted_probs)\n",
    "        penalties[k_reg:] += lambda_reg\n",
    "        penalties_cumsum = np.cumsum(penalties)\n",
    "\n",
    "        target = labels[i].item()\n",
    "        rank = np.where(sorted_indices == target)[0][0]\n",
    "\n",
    "        if not randomized:\n",
    "            tau = cumsum[rank] + penalties_cumsum[rank]\n",
    "        else:\n",
    "            U = np.random.rand()\n",
    "            if rank == 0:\n",
    "                tau = U * cumsum[0] + penalties_cumsum[0] if allow_zero_sets else cumsum[0] + penalties_cumsum[0]\n",
    "            else:\n",
    "                tau = U * sorted_probs[rank] + cumsum[rank - 1] + penalties_cumsum[rank]\n",
    "\n",
    "        scores.append(tau)\n",
    "    return np.array(scores)\n",
    "\n",
    "\n",
    "def compute_threshold(scores, alpha):\n",
    "    return np.quantile(scores, 1 - alpha, method=\"higher\")\n",
    "\n",
    "def predict_set(sorted_probs, sorted_indices, tau, lambda_reg=0.1, k_reg=5, randomized=True, allow_zero_sets=True):\n",
    "\n",
    "    cumsum = np.cumsum(sorted_probs)\n",
    "\n",
    "    penalties = np.zeros_like(sorted_probs)\n",
    "    penalties[k_reg:] += lambda_reg\n",
    "    penalties_cumsum = np.cumsum(penalties)\n",
    "\n",
    "    sizes_base = (cumsum + penalties_cumsum <= tau).sum() + 1\n",
    "    sizes_base = min(sizes_base, len(sorted_probs))\n",
    "\n",
    "    if randomized and sizes_base < len(sorted_probs):\n",
    "        V = 1 / sorted_probs[sizes_base - 1] * (\n",
    "            tau - (cumsum[sizes_base - 1] - sorted_probs[sizes_base - 1]) - penalties_cumsum[sizes_base - 1]\n",
    "        )\n",
    "        sizes = sizes_base - int(np.random.rand() >= V)\n",
    "    else:\n",
    "        sizes = sizes_base\n",
    "\n",
    "    if tau == 1.0:\n",
    "        sizes = len(sorted_probs)\n",
    "\n",
    "    if not allow_zero_sets and sizes == 0:\n",
    "        sizes = 1\n",
    "\n",
    "    sizes = max(sizes, 1)\n",
    "    return sorted_indices[:sizes].tolist()\n",
    "\n",
    "def platt_scaling(logits_data, T):\n",
    "    logits_data = logits_data.cpu().numpy()\n",
    "    sorted_probs = []\n",
    "    sorted_indices =[]\n",
    "    for i in range(len(logits_data)):\n",
    "        scaled_logits = logits_data[i] / T.item()\n",
    "        probs = softmax(scaled_logits)\n",
    "        sorted_indices.append(np.argsort(probs)[::-1])\n",
    "        sorted_probs.append(np.sort(probs)[::-1])\n",
    "\n",
    "    return sorted_probs, sorted_indices\n",
    "\n",
    "def optimal_k_reg(sorted_indices_list, labels, alpha):\n",
    "\n",
    "    ranks = []\n",
    "    for i in range(len(labels)):\n",
    "        true_label = labels[i].item()\n",
    "        rank = np.where(sorted_indices_list[i] == true_label)[0][0]\n",
    "        ranks.append(rank)\n",
    "\n",
    "    k_reg = compute_threshold(np.array(ranks), alpha=alpha)\n",
    "    return k_reg\n",
    "\n",
    "def naive_predict(sorted_probs, sorted_indices, tau, randomized=False):\n",
    "    cum_sum = 0.0\n",
    "    L = 0\n",
    "\n",
    "    while L < len(sorted_probs) and cum_sum < tau:\n",
    "        cum_sum += sorted_probs[L]\n",
    "        L += 1\n",
    "\n",
    "    # Break ties randomly as per Algorithm 1\n",
    "    if randomized and L > 0:\n",
    "        U = np.random.uniform(0, 1)\n",
    "        score_sum = np.sum(sorted_probs[:L])\n",
    "        V = (score_sum - tau) / sorted_probs[L - 1] if sorted_probs[L - 1] > 0 else 0\n",
    "        if U <= V:\n",
    "            L -= 1\n",
    "\n",
    "    return sorted_indices[:L].tolist()\n"
   ]
  },
  {
   "cell_type": "markdown",
   "metadata": {
    "id": "tUYinDyFOY4u"
   },
   "source": [
    "## Getting Logits"
   ]
  },
  {
   "cell_type": "code",
   "execution_count": 16,
   "metadata": {
    "colab": {
     "base_uri": "https://localhost:8080/",
     "height": 356
    },
    "execution": {
     "iopub.execute_input": "2025-04-14T13:00:52.810717Z",
     "iopub.status.busy": "2025-04-14T13:00:52.810401Z",
     "iopub.status.idle": "2025-04-14T13:03:26.931348Z",
     "shell.execute_reply": "2025-04-14T13:03:26.930746Z",
     "shell.execute_reply.started": "2025-04-14T13:00:52.810694Z"
    },
    "id": "mAiRw_jVOY4u",
    "outputId": "c9e5987b-78eb-4a9f-a298-be01887879a5",
    "trusted": true
   },
   "outputs": [],
   "source": [
    "\n",
    "logits_calib, labels_calib = get_logits(model, calib_loader, device)\n",
    "logits_test, labels_test = get_logits(model, test_loader, device)\n",
    "\n",
    "T = temperature_scaling(logits_calib, labels_calib)\n",
    "\n",
    "sorted_probs_calib, sorted_indices_calib = platt_scaling(logits_calib, T)\n",
    "sorted_probs_test, sorted_indices_test = platt_scaling(logits_test, T)\n",
    "\n",
    "param_logits, param_labels = get_logits(model, param_loader, device)\n",
    "sorted_probs_param, sorted_indices_param = platt_scaling(param_logits, T)"
   ]
  },
  {
   "cell_type": "markdown",
   "metadata": {
    "id": "JJElczr6OY4u"
   },
   "source": [
    "## Computing over values of alphas"
   ]
  },
  {
   "cell_type": "code",
   "execution_count": 17,
   "metadata": {
    "execution": {
     "iopub.execute_input": "2025-04-14T13:03:26.932462Z",
     "iopub.status.busy": "2025-04-14T13:03:26.932217Z",
     "iopub.status.idle": "2025-04-14T13:03:31.225452Z",
     "shell.execute_reply": "2025-04-14T13:03:31.224921Z",
     "shell.execute_reply.started": "2025-04-14T13:03:26.932443Z"
    },
    "id": "vd6HKy_mOY4v",
    "trusted": true
   },
   "outputs": [
    {
     "name": "stdout",
     "output_type": "stream",
     "text": [
      "Optimal k_reg for alpha 0.01: 81\n",
      "Optimal k_reg for alpha 0.05: 6\n",
      "Optimal k_reg for alpha 0.1: 2\n"
     ]
    }
   ],
   "source": [
    "alphas =  [0.01, 0.05, 0.1]\n",
    "\n",
    "average_sizes = {'RAPS': [], 'APS': [], 'Naive': []}\n",
    "average_coverages = {'RAPS': [], 'APS': [], 'Naive': []}\n",
    "\n",
    "# Hyperparameters\n",
    "lambda_reg = 0.1\n",
    "k_reg = 5\n",
    "randomized = True\n",
    "allow_zero_sets = True\n",
    "allow_optimal_k = True\n",
    "\n",
    "for alpha in alphas:\n",
    "\n",
    "    # Optimal k_reg\n",
    "    k_reg = optimal_k_reg(sorted_indices_param, param_labels, alpha=alpha) if allow_optimal_k else k_reg\n",
    "    print(f\"Optimal k_reg for alpha {alpha}: {k_reg}\")\n",
    "\n",
    "\n",
    "    ########-------------RAPS------------#########\n",
    "    scores = compute_scores(sorted_probs_calib, sorted_indices_calib, labels_calib,lambda_reg=lambda_reg,\n",
    "                             k_reg=k_reg, randomized=randomized, allow_zero_sets=allow_zero_sets)\n",
    "\n",
    "    tau = compute_threshold(scores, alpha=alpha)\n",
    "\n",
    "\n",
    "    prediction_sets = [\n",
    "        predict_set(sorted_probs_test[i], sorted_indices_test[i], tau,lambda_reg=lambda_reg,\n",
    "                    k_reg=k_reg,randomized=randomized, allow_zero_sets=allow_zero_sets)\n",
    "        for i in range(len(sorted_probs_test))\n",
    "    ]\n",
    "\n",
    "    sizes = [len(pset) for pset in prediction_sets]\n",
    "    coverage = np.mean([\n",
    "        labels_test[i].item() in prediction_sets[i] for i in range(len(labels_test))\n",
    "    ])\n",
    "\n",
    "    average_sizes['RAPS'].append(np.mean(sizes))\n",
    "    average_coverages['RAPS'].append(coverage)\n",
    "\n",
    "    ###########-----APS(RAPS with lambda=0)---#######\n",
    "\n",
    "    scores_aps = compute_scores(sorted_probs_calib, sorted_indices_calib, labels_calib,lambda_reg=0,\n",
    "                             k_reg=0, randomized=randomized, allow_zero_sets=allow_zero_sets)\n",
    "\n",
    "    tau_aps = compute_threshold(scores_aps, alpha=alpha)\n",
    "\n",
    "\n",
    "    prediction_sets_aps = [\n",
    "        predict_set(sorted_probs_test[i], sorted_indices_test[i], tau_aps,lambda_reg=0,\n",
    "                    k_reg=0,randomized=randomized, allow_zero_sets=allow_zero_sets)\n",
    "        for i in range(len(sorted_probs_test))\n",
    "    ]\n",
    "\n",
    "    sizes_aps = [len(pset) for pset in prediction_sets_aps]\n",
    "    coverage_aps = np.mean([ labels_test[i].item() in prediction_sets_aps[i] for i in range(len(labels_test))])\n",
    "\n",
    "    average_sizes['APS'].append(np.mean(sizes_aps))\n",
    "    average_coverages['APS'].append(coverage_aps)\n",
    "\n",
    "    ########---Naive ---#######\n",
    "    tau = 1 - alpha\n",
    "\n",
    "    prediction_sets_naive = [\n",
    "        naive_predict(sorted_probs_test[i], sorted_indices_test[i], tau, randomized=randomized)\n",
    "        for i in range(len(sorted_probs_test))\n",
    "    ]\n",
    "\n",
    "    sizes_naive = [len(pset) for pset in prediction_sets_naive]\n",
    "    coverage_naive = np.mean([labels_test[i].item() in prediction_sets_naive[i] for i in range(len(labels_test))])\n",
    "\n",
    "    average_sizes['Naive'].append(np.mean(sizes_naive))\n",
    "    average_coverages['Naive'].append(coverage_naive)\n",
    "\n",
    "\n",
    "\n"
   ]
  },
  {
   "cell_type": "markdown",
   "metadata": {},
   "source": [
    "## Plotting the Results "
   ]
  },
  {
   "cell_type": "code",
   "execution_count": 21,
   "metadata": {
    "execution": {
     "iopub.execute_input": "2025-04-14T13:05:29.666094Z",
     "iopub.status.busy": "2025-04-14T13:05:29.665439Z",
     "iopub.status.idle": "2025-04-14T13:05:30.659289Z",
     "shell.execute_reply": "2025-04-14T13:05:30.658588Z",
     "shell.execute_reply.started": "2025-04-14T13:05:29.666070Z"
    },
    "id": "NuV8ulP9OY4v",
    "trusted": true
   },
   "outputs": [
    {
     "data": {
      "image/png": "[encoded data removed]",
      "text/plain": [
       "<Figure size 1200x450 with 2 Axes>"
      ]
     },
     "metadata": {},
     "output_type": "display_data"
    }
   ],
   "source": [
    "sns.set_theme(style=\"whitegrid\")\n",
    "\n",
    "methods = ['RAPS', 'APS', 'Naive']\n",
    "colors = ['#FF5733', '#2980B9', '#27AE60']  # RAPS, APS, Naive\n",
    "x = np.arange(len(alphas))\n",
    "bar_width = 0.2  \n",
    "\n",
    "fig, axs = plt.subplots(1, 2, figsize=(12, 4.5))\n",
    "\n",
    "# Plot average set sizes\n",
    "for i, method in enumerate(methods):\n",
    "    bars = axs[0].bar(x + i * bar_width, average_sizes[method], width=bar_width, label=method, color=colors[i])\n",
    "    for bar in bars:\n",
    "        height = bar.get_height()\n",
    "        axs[0].text(bar.get_x() + bar.get_width() / 2, height - 2.5, f'{height:.1f}', \n",
    "                    ha='center', va='top', fontsize=8, color='black')\n",
    "\n",
    "axs[0].set_xticks(x + (len(methods) - 1) * bar_width / 2)\n",
    "axs[0].set_xticklabels(alphas)\n",
    "axs[0].set_xlabel('Alpha')\n",
    "axs[0].set_ylabel('Average Prediction Set Size')\n",
    "axs[0].set_title('Prediction Set Size vs Alpha')\n",
    "axs[0].legend()\n",
    "axs[0].grid(axis='y', linestyle='--', alpha=0.5)\n",
    "\n",
    "# Plot average coverages\n",
    "for i, method in enumerate(methods):\n",
    "    bars = axs[1].bar(x + i * bar_width, average_coverages[method], width=bar_width, label=method, color=colors[i])\n",
    "    for bar in bars:\n",
    "        height = bar.get_height()\n",
    "        axs[1].text(bar.get_x() + bar.get_width() / 2, height - 0.015, f'{height:.3f}', \n",
    "                    ha='center', va='top', fontsize=8, color='black')\n",
    "\n",
    "# Plot 1-alpha dashed lines\n",
    "for i, alpha in enumerate(alphas):\n",
    "    y = 1 - alpha\n",
    "    axs[1].axhline(y=y, color='k', linestyle='--', linewidth=1, alpha=0.4)\n",
    "    axs[1].text(len(alphas) - 0.7, y + 0.002, f'1-α={y:.2f}', color='k', fontsize=8, alpha=0.6)\n",
    "\n",
    "axs[1].set_xticks(x + (len(methods) - 1) * bar_width / 2)\n",
    "axs[1].set_xticklabels(alphas)\n",
    "axs[1].set_xlabel('Alpha')\n",
    "axs[1].set_ylabel('Coverage')\n",
    "axs[1].set_title('Coverage vs Alpha')\n",
    "axs[1].legend()\n",
    "axs[1].grid(axis='y', linestyle='--', alpha=0.5)\n",
    "\n",
    "# plt.suptitle(\"Conformal Results on RESNET152\", fontsize=14)\n",
    "plt.tight_layout(rect=[0, 0, 1, 0.95])\n",
    "plt.savefig(\"conformal_summary_resnet152_optimal.png\", dpi=300)\n",
    "plt.show()"
   ]
  },
  {
   "cell_type": "code",
   "execution_count": 12,
   "metadata": {
    "execution": {
     "iopub.execute_input": "2025-04-14T10:00:42.091953Z",
     "iopub.status.busy": "2025-04-14T10:00:42.091685Z",
     "iopub.status.idle": "2025-04-14T10:00:42.098001Z",
     "shell.execute_reply": "2025-04-14T10:00:42.097378Z",
     "shell.execute_reply.started": "2025-04-14T10:00:42.091930Z"
    },
    "id": "FSs8WuLBR4H6",
    "trusted": true
   },
   "outputs": [
    {
     "name": "stdout",
     "output_type": "stream",
     "text": [
      "\n",
      "-------------------------------------------------------------------------------------------------------------------\n",
      "Alpha           RAPS Size       RAPS Coverage       APS Size        APS Coverage     Naive Size      Naive Coverage\n",
      "-------------------------------------------------------------------------------------------------------------------\n",
      "0.01               41.124               0.990        113.512               0.992         85.355               0.988\n",
      "0.05                4.330               0.951         23.204               0.963         24.676               0.947\n",
      "0.10                2.133               0.909         11.306               0.934         11.978               0.898\n",
      "-------------------------------------------------------------------------------------------------------------------\n"
     ]
    }
   ],
   "source": [
    "methods = ['RAPS', 'APS', 'Naive']\n",
    "\n",
    "# Header\n",
    "header = f\"{'Alpha':<10}\"\n",
    "for method in methods:\n",
    "    header += f\"{method + ' Size':>15}{method + ' Coverage':>20}\"\n",
    "print(\"\\n\" + \"-\" * len(header))\n",
    "print(header)\n",
    "print(\"-\" * len(header))\n",
    "\n",
    "# Rows\n",
    "for i, alpha in enumerate(alphas):\n",
    "    row = f\"{alpha:<10.2f}\"\n",
    "    for method in methods:\n",
    "        size = average_sizes[method][i] if method in average_sizes else float('nan')\n",
    "        cov = average_coverages[method][i] if method in average_coverages else float('nan')\n",
    "        row += f\"{size:>15.3f}{cov:>20.3f}\"\n",
    "    print(row)\n",
    "\n",
    "print(\"-\" * len(header))"
   ]
  },
  {
   "cell_type": "markdown",
   "metadata": {},
   "source": [
    "## Tuning for $\\lambda$ hyperparameter"
   ]
  },
  {
   "cell_type": "code",
   "execution_count": 22,
   "metadata": {
    "execution": {
     "iopub.execute_input": "2025-04-14T13:10:46.919008Z",
     "iopub.status.busy": "2025-04-14T13:10:46.918303Z",
     "iopub.status.idle": "2025-04-14T13:10:53.332027Z",
     "shell.execute_reply": "2025-04-14T13:10:53.331213Z",
     "shell.execute_reply.started": "2025-04-14T13:10:46.918983Z"
    },
    "trusted": true
   },
   "outputs": [
    {
     "name": "stdout",
     "output_type": "stream",
     "text": [
      "Optimal k_reg for lambda 0.001: 6\n",
      "Optimal k_reg for lambda 0.01: 6\n",
      "Optimal k_reg for lambda 0.1: 6\n",
      "Optimal k_reg for lambda 0.5: 6\n",
      "Optimal k_reg for lambda 1.0: 6\n"
     ]
    }
   ],
   "source": [
    "#Hyperparameters tuning for lambda\n",
    "lambdas = [0.001, 0.01, 0.1, 0.5, 1.0]\n",
    "alpha = 0.1\n",
    "average_sizes_tuning = {'RAPS': [], 'APS': [], 'Naive': []}\n",
    "average_coverages_tuning = {'RAPS': [], 'APS': [], 'Naive': []}\n",
    "\n",
    "for lambda_reg in lambdas:\n",
    "\n",
    "    # Optimal k_reg\n",
    "    k_reg = optimal_k_reg(sorted_indices_param, param_labels, alpha=0.05) if allow_optimal_k else k_reg\n",
    "    print(f\"Optimal k_reg for lambda {lambda_reg}: {k_reg}\")\n",
    "\n",
    "\n",
    "    ########-------------RAPS------------#########\n",
    "    scores = compute_scores(sorted_probs_calib, sorted_indices_calib, labels_calib,lambda_reg=lambda_reg,\n",
    "                             k_reg=k_reg, randomized=randomized, allow_zero_sets=allow_zero_sets)\n",
    "\n",
    "    tau = compute_threshold(scores, alpha=0.05)\n",
    "\n",
    "\n",
    "    prediction_sets = [\n",
    "        predict_set(sorted_probs_test[i], sorted_indices_test[i], tau,lambda_reg=lambda_reg,\n",
    "                    k_reg=k_reg,randomized=randomized, allow_zero_sets=allow_zero_sets)\n",
    "        for i in range(len(sorted_probs_test))\n",
    "    ]\n",
    "\n",
    "    sizes = [len(pset) for pset in prediction_sets]\n",
    "    coverage = np.mean([\n",
    "        labels_test[i].item() in prediction_sets[i] for i in range(len(labels_test))\n",
    "    ])\n",
    "\n",
    "    average_sizes_tuning['RAPS'].append(np.mean(sizes))\n",
    "    average_coverages_tuning['RAPS'].append(coverage)\n",
    "\n",
    "    ###########-----APS(RAPS with lambda=0)---#######\n",
    "    scores_aps = compute_scores(sorted_probs_calib, sorted_indices_calib, labels_calib,lambda_reg=0,\n",
    "                             k_reg=0, randomized=randomized, allow_zero_sets=allow_zero_sets)\n",
    "    tau_aps = compute_threshold(scores_aps, alpha=0.05)\n",
    "    prediction_sets_aps = [\n",
    "        predict_set(sorted_probs_test[i], sorted_indices_test[i], tau_aps,lambda_reg=0,\n",
    "                    k_reg=0,randomized=randomized, allow_zero_sets=allow_zero_sets)\n",
    "        for i in range(len(sorted_probs_test))\n",
    "    ]\n",
    "    sizes_aps = [len(pset) for pset in prediction_sets_aps]\n",
    "    coverage_aps = np.mean([ labels_test[i].item() in prediction_sets_aps[i] for i in range(len(labels_test))])\n",
    "    average_sizes_tuning['APS'].append(np.mean(sizes_aps))\n",
    "    average_coverages_tuning['APS'].append(coverage_aps)\n",
    "    ########---Naive ---#######\n",
    "    tau = 1 - alpha\n",
    "    prediction_sets_naive = [\n",
    "        naive_predict(sorted_probs_test[i], sorted_indices_test[i], tau, randomized=randomized)\n",
    "        for i in range(len(sorted_probs_test))\n",
    "    ]\n",
    "    sizes_naive = [len(pset) for pset in prediction_sets_naive]\n",
    "    coverage_naive = np.mean([labels_test[i].item() in prediction_sets_naive[i] for i in range(len(labels_test))])\n",
    "    average_sizes_tuning['Naive'].append(np.mean(sizes_naive))\n",
    "    average_coverages_tuning['Naive'].append(coverage_naive)"
   ]
  },
  {
   "cell_type": "code",
   "execution_count": 23,
   "metadata": {
    "execution": {
     "iopub.execute_input": "2025-04-14T13:11:02.950263Z",
     "iopub.status.busy": "2025-04-14T13:11:02.949765Z",
     "iopub.status.idle": "2025-04-14T13:11:02.955558Z",
     "shell.execute_reply": "2025-04-14T13:11:02.954851Z",
     "shell.execute_reply.started": "2025-04-14T13:11:02.950239Z"
    },
    "trusted": true
   },
   "outputs": [
    {
     "name": "stdout",
     "output_type": "stream",
     "text": [
      "Lambda     | Method   | Avg Size   | Coverage  \n",
      "----------------------------------------------\n",
      "0.001      | RAPS     | 11.539     | 0.965     \n",
      "           | APS      | 24.172     | 0.967     \n",
      "           | Naive    | 11.475     | 0.903     \n",
      "----------------------------------------------\n",
      "0.01       | RAPS     | 5.863      | 0.963     \n",
      "           | APS      | 23.450     | 0.965     \n",
      "           | Naive    | 11.478     | 0.903     \n",
      "----------------------------------------------\n",
      "0.1        | RAPS     | 4.256      | 0.955     \n",
      "           | APS      | 22.286     | 0.964     \n",
      "           | Naive    | 11.479     | 0.903     \n",
      "----------------------------------------------\n",
      "0.5        | RAPS     | 6.034      | 0.956     \n",
      "           | APS      | 24.956     | 0.967     \n",
      "           | Naive    | 11.482     | 0.904     \n",
      "----------------------------------------------\n",
      "1.0        | RAPS     | 6.033      | 0.956     \n",
      "           | APS      | 23.788     | 0.966     \n",
      "           | Naive    | 11.475     | 0.901     \n",
      "----------------------------------------------\n"
     ]
    }
   ],
   "source": [
    "print(f\"{'Lambda':<10} | {'Method':<8} | {'Avg Size':<10} | {'Coverage':<10}\")\n",
    "print(\"-\" * 46)\n",
    "for i, lambda_val in enumerate(lambdas):\n",
    "    print(f\"{lambda_val:<10} | {'RAPS':<8} | {average_sizes_tuning['RAPS'][i]:<10.3f} | {average_coverages_tuning['RAPS'][i]:<10.3f}\")\n",
    "    print(f\"{'':<10} | {'APS':<8} | {average_sizes_tuning['APS'][i]:<10.3f} | {average_coverages_tuning['APS'][i]:<10.3f}\")\n",
    "    print(f\"{'':<10} | {'Naive':<8} | {average_sizes_tuning['Naive'][i]:<10.3f} | {average_coverages_tuning['Naive'][i]:<10.3f}\")\n",
    "    print(\"-\" * 46)\n"
   ]
  }
 ],
 "metadata": {
  "accelerator": "GPU",
  "colab": {
   "gpuType": "T4",
   "provenance": []
  },
  "kaggle": {
   "accelerator": "gpu",
   "dataSources": [],
   "dockerImageVersionId": 31011,
   "isGpuEnabled": true,
   "isInternetEnabled": true,
   "language": "python",
   "sourceType": "notebook"
  },
  "kernelspec": {
   "display_name": "Python 3",
   "language": "python",
   "name": "python3"
  },
  "language_info": {
   "codemirror_mode": {
    "name": "ipython",
    "version": 3
   },
   "file_extension": ".py",
   "mimetype": "text/x-python",
   "name": "python",
   "nbconvert_exporter": "python",
   "pygments_lexer": "ipython3",
   "version": "3.11.11"
  }
 },
 "nbformat": 4,
 "nbformat_minor": 4
}
