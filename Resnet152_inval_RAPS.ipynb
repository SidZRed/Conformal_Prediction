{
  "cells": [
    {
      "cell_type": "markdown",
      "metadata": {
        "id": "XpCfDaYeOY4n"
      },
      "source": [
        "## Download the data set (only when you don't have it)"
      ]
    },
    {
      "cell_type": "code",
      "execution_count": null,
      "metadata": {
        "colab": {
          "base_uri": "https://localhost:8080/"
        },
        "id": "66KtNHLKOY4p",
        "outputId": "474db2ec-ee56-40fa-c176-58c889dafd3a"
      },
      "outputs": [
        {
          "name": "stdout",
          "output_type": "stream",
          "text": [
            "2025-04-12 20:24:11 URL:https://public.boxcloud.com/d/1/b1!22Z_tXkAkg03UjItOyxmPksn3dh6LkpOPpSazWAuiWEk_UE0Qdjg34h7fpXT9_cBjcLMenyEGHcNL2t11CrWGA9xBr_eEfyHMqry4OhmAxLT9VNQvGb7_BwtNaKYDnkEhVo_H502kUOF7_QDWrFZKuC5Ya-PDaUfSkxZUZ9LGSRRtHXHDatO1QS53N_mkfeYzcLUKHtx7WQTk9PwcmUCLDamQTZZI3mv0c99ujb0TxRby4wYadg62Un-z40MPEDjXFmP9ko4KO0tPxS-_2K3y8j3yGyXT49bVq_fg5nXu4f0Os6jQiXt4zAL8oIeQ6BibKIGEir_DICw5DlWzCnkOBR8oLswJ6GCICso1CJf5pgxToef7-b75dDTZxHeFSB7Ehg-qShRYA1t4xwWHSBZOz_RrIUvCEMhTS-0jEtE_CAQ4_Y9TXuZHnx5w7tCR4jsfx9gJXNnLgBuww3ZueE_Gk8RrgmV_j_EL-waCpd2_yzTh5lHTIsYih45irS75ZbZ2B-iSE1Ac9sdi67Qrrse62Q5uCquX7naOpkGwmaub5nz_9pcbKZTwurYg0iYtCz9R4-3-QcFux8oCc0HnAiiRJN0oeLjLPQKhTwmsVLjOUqeIe2d6NxYugF1KTDb2ToolYDNgwRAWEZCuZ-lRgSOgI2-qdYtPEbKV9figIb2Rm8NsK77VsI97s0_ajMLZNZge4T6vq-EAHxCQY34rdWaslzvmSY0NbhBiJ4q63Nks4HZyBur_qgoxjm0jwilh0dkbYbQRicby88wFiATXfEUbGm3tqXCWPT6qa3H3i8V1rplZRn1QQrg08dfsd11DRnhCikUIGj4sQl0fFAuHv5GbSgS8bqNK9ecdInjBBpIY4uMHK6ndOd5vPeBTyrHDuEizaT5YI3T7Qe_2zJ1d-eoU_e0foAPN6s4A6e98l9cXYSgwFKu3NCN68V6VUtS2Gx7ZFiba0ON7Fxb2kc4lNJDNUC-mPLesf7v6klhM3lyZOgrrtJ_X1AC7FOmfb1hNIupD3fss02tyhVZK4Yn3xedlZWBF3SUfhK-humOY4yAL7Iyc2IZGnpyvMPGDbIwxHaAUcZHzN1E15lEyB5Dn17WPM7XWnKGMTmxIuOVMN7jk-7ezzklfkTBFtOCUt5egRNOy44PZjntrbdyOn0xiIfEd6niDOF8GgezZtsveC4FsZmbFxeswIB27hutlFN_svq2_bNN6yybBOjndxLT8JSBal4wTFv2UdCDXcj5M-q2ChfUZSQQbeqFW-7Km5fuXMWsXCp9r2g7h0HbZ50pVJUlbH3hzhCZ9kYl5qsp5OQ_CC7YgcwpxIyjbjixj37uR7rBUEKLhK5SoyI1HoPNseqN78U-G9s175kciItKNRbT5H_IG-PQRL6iGB7HS0W4fwIMMJyDBxnFZDJL3aBGN2Ho8Bd3Laojkf5KMUkh3HdzgSWpWBibzdTqdsn5pDBMWbObRCZnqmHmQ5F48hdXn2xoLEfy8uhDYqr7GQZHvlcCSxU08dlAUywZPqdkurdZt4lH0Bzp/download [6666645191/6666645191] -> \"imagenet_val.tar.gz\" [1]\n"
          ]
        }
      ],
      "source": [
        "! wget -nv -O imagenet_val.tar.gz -L https://berkeley.box.com/shared/static/pouthcomrvxw9hj64oxhacjvqdw3ihlp.gz\n",
        "! mkdir imagenet_val\n",
        "! tar -xf imagenet_val.tar.gz -C ./imagenet_val/\n",
        "! mv imagenet_val/scratch/group/ilsvrc/val/* imagenet_val/\n",
        "! rm -r imagenet_val/scratch"
      ]
    },
    {
      "cell_type": "code",
      "execution_count": 1,
      "metadata": {
        "id": "MS6JsWthOY4r"
      },
      "outputs": [],
      "source": [
        "import torch\n",
        "from torchvision import models, transforms\n",
        "from torch.utils.data import DataLoader, random_split\n",
        "from tqdm import tqdm\n",
        "from torch.nn import functional as F\n",
        "import numpy as np\n",
        "import torchvision\n",
        "import matplotlib.pyplot as plt\n",
        "from torch import nn, optim\n",
        "from scipy.special import softmax\n",
        "import seaborn as sns\n",
        "import pandas as pd"
      ]
    },
    {
      "cell_type": "code",
      "execution_count": 2,
      "metadata": {
        "colab": {
          "base_uri": "https://localhost:8080/"
        },
        "id": "Hm3kXTcWOY4s",
        "outputId": "f6cf825c-04a5-493f-f989-75f9063bc186"
      },
      "outputs": [
        {
          "name": "stdout",
          "output_type": "stream",
          "text": [
            "Using device: cpu\n"
          ]
        },
        {
          "name": "stderr",
          "output_type": "stream",
          "text": [
            "/home/nikhiljamuda/Desktop/RefineRAPS/venv/lib/python3.12/site-packages/torch/cuda/__init__.py:129: UserWarning: CUDA initialization: CUDA unknown error - this may be due to an incorrectly set up environment, e.g. changing env variable CUDA_VISIBLE_DEVICES after program start. Setting the available devices to be zero. (Triggered internally at /pytorch/c10/cuda/CUDAFunctions.cpp:109.)\n",
            "  return torch._C._cuda_getDeviceCount() > 0\n"
          ]
        }
      ],
      "source": [
        "device = torch.device(\"cuda\" if torch.cuda.is_available() else \"cpu\")\n",
        "print(f\"Using device: {device}\")"
      ]
    },
    {
      "cell_type": "markdown",
      "metadata": {
        "id": "bVBnRi9bOY4s"
      },
      "source": [
        "## Loading pretrained ResNet101 model"
      ]
    },
    {
      "cell_type": "code",
      "execution_count": 3,
      "metadata": {
        "colab": {
          "base_uri": "https://localhost:8080/"
        },
        "id": "9u771Q9AOY4s",
        "outputId": "f2ae1eed-f72f-4c2c-cb70-aac797569853"
      },
      "outputs": [
        {
          "name": "stderr",
          "output_type": "stream",
          "text": [
            "/home/nikhiljamuda/Desktop/RefineRAPS/venv/lib/python3.12/site-packages/torchvision/models/_utils.py:208: UserWarning: The parameter 'pretrained' is deprecated since 0.13 and may be removed in the future, please use 'weights' instead.\n",
            "  warnings.warn(\n",
            "/home/nikhiljamuda/Desktop/RefineRAPS/venv/lib/python3.12/site-packages/torchvision/models/_utils.py:223: UserWarning: Arguments other than a weight enum or `None` for 'weights' are deprecated since 0.13 and may be removed in the future. The current behavior is equivalent to passing `weights=ResNet152_Weights.IMAGENET1K_V1`. You can also use `weights=ResNet152_Weights.DEFAULT` to get the most up-to-date weights.\n",
            "  warnings.warn(msg)\n"
          ]
        }
      ],
      "source": [
        "model = models.resnet152(pretrained=True,progress=True)\n",
        "model.eval()\n",
        "model = model.to(device)\n",
        "\n",
        "transform = transforms.Compose([\n",
        "    transforms.Resize(256),\n",
        "    transforms.CenterCrop(224),\n",
        "    transforms.ToTensor(),\n",
        "    transforms.Normalize(\n",
        "        mean=[0.485, 0.456, 0.406],\n",
        "        std=[0.229, 0.224, 0.225]\n",
        "    ),\n",
        "])\n"
      ]
    },
    {
      "cell_type": "markdown",
      "metadata": {
        "id": "vc_s2PaVOY4t"
      },
      "source": [
        "# Load the data set"
      ]
    },
    {
      "cell_type": "code",
      "execution_count": 4,
      "metadata": {
        "id": "3EPbA9kLOY4t"
      },
      "outputs": [],
      "source": [
        "num_calib = 5000\n",
        "\n",
        "# Get the conformal calibration dataset\n",
        "imagenet_calib_data, imagenet_val_data ,imagenet_param_data= torch.utils.data.random_split(torchvision.datasets.ImageFolder('./imagenet_val/', transform), [num_calib,50000-num_calib-1000,1000])\n",
        "batch_size = 128\n",
        "\n",
        "# Reduce the size of the validation set to 10000\n",
        "imagenet_val_data = torch.utils.data.Subset(imagenet_val_data, range(10000))\n",
        "\n",
        "# Initialize loaders\n",
        "calib_loader = torch.utils.data.DataLoader(imagenet_calib_data, batch_size=batch_size, shuffle=True, pin_memory=True)\n",
        "test_loader = torch.utils.data.DataLoader(imagenet_val_data, batch_size=batch_size, shuffle=True, pin_memory=True)\n",
        "param_loader = torch.utils.data.DataLoader(imagenet_param_data, batch_size=batch_size, shuffle=True, pin_memory=True)"
      ]
    },
    {
      "cell_type": "markdown",
      "metadata": {
        "id": "SYb6ZulKOY4t"
      },
      "source": [
        "# Function for Conformal Prediction Procedures"
      ]
    },
    {
      "cell_type": "code",
      "execution_count": 5,
      "metadata": {
        "id": "_18a1E1cOY4t"
      },
      "outputs": [],
      "source": [
        "\n",
        "\n",
        "def get_logits(model, dataloader, device):\n",
        "    model.eval()\n",
        "    logits_list, labels_list = [], []\n",
        "    with torch.no_grad():\n",
        "        for inputs, labels in dataloader:\n",
        "            inputs = inputs.to(device)\n",
        "            outputs = model(inputs)\n",
        "            logits_list.append(outputs.cpu())\n",
        "            labels_list.append(labels)\n",
        "    return torch.cat(logits_list), torch.cat(labels_list)\n",
        "\n",
        "\n",
        "def temperature_scaling(logits, labels, max_iters=50, lr=0.01, epsilon=1e-4):\n",
        "    T = nn.Parameter(torch.tensor([1.3], requires_grad=True))\n",
        "    optimizer = optim.SGD([T], lr=lr)\n",
        "    criterion = nn.CrossEntropyLoss()\n",
        "\n",
        "    for i in range(max_iters):\n",
        "        optimizer.zero_grad()\n",
        "        scaled_logits = logits / T\n",
        "        loss = criterion(scaled_logits, labels)\n",
        "        loss.backward()\n",
        "        optimizer.step()\n",
        "        if abs(loss.item()) < epsilon:\n",
        "            break\n",
        "    return T.detach()\n",
        "\n",
        "def compute_scores(sorted_probs_list, sorted_indices_list, labels,\n",
        "                   lambda_reg=0.1, k_reg=5, randomized=True, allow_zero_sets=True):\n",
        "    scores = []\n",
        "    for i in range(len(labels)):\n",
        "        sorted_probs = sorted_probs_list[i]\n",
        "        sorted_indices = sorted_indices_list[i]\n",
        "        cumsum = np.cumsum(sorted_probs)\n",
        "\n",
        "        penalties = np.zeros_like(sorted_probs)\n",
        "        penalties[k_reg:] += lambda_reg\n",
        "        penalties_cumsum = np.cumsum(penalties)\n",
        "\n",
        "        target = labels[i].item()\n",
        "        rank = np.where(sorted_indices == target)[0][0]\n",
        "\n",
        "        if not randomized:\n",
        "            tau = cumsum[rank] + penalties_cumsum[rank]\n",
        "        else:\n",
        "            U = np.random.rand()\n",
        "            if rank == 0:\n",
        "                tau = U * cumsum[0] + penalties_cumsum[0] if allow_zero_sets else cumsum[0] + penalties_cumsum[0]\n",
        "            else:\n",
        "                tau = U * sorted_probs[rank] + cumsum[rank - 1] + penalties_cumsum[rank]\n",
        "\n",
        "        scores.append(tau)\n",
        "    return np.array(scores)\n",
        "\n",
        "\n",
        "def compute_threshold(scores, alpha):\n",
        "    return np.quantile(scores, 1 - alpha, method=\"higher\")\n",
        "\n",
        "def predict_set(sorted_probs, sorted_indices, tau, lambda_reg=0.1, k_reg=5, randomized=True, allow_zero_sets=True):\n",
        "\n",
        "    cumsum = np.cumsum(sorted_probs)\n",
        "\n",
        "    penalties = np.zeros_like(sorted_probs)\n",
        "    penalties[k_reg:] += lambda_reg\n",
        "    penalties_cumsum = np.cumsum(penalties)\n",
        "\n",
        "    sizes_base = (cumsum + penalties_cumsum <= tau).sum() + 1\n",
        "    sizes_base = min(sizes_base, len(sorted_probs))\n",
        "\n",
        "    if randomized and sizes_base < len(sorted_probs):\n",
        "        V = 1 / sorted_probs[sizes_base - 1] * (\n",
        "            tau - (cumsum[sizes_base - 1] - sorted_probs[sizes_base - 1]) - penalties_cumsum[sizes_base - 1]\n",
        "        )\n",
        "        sizes = sizes_base - int(np.random.rand() >= V)\n",
        "    else:\n",
        "        sizes = sizes_base\n",
        "\n",
        "    if tau == 1.0:\n",
        "        sizes = len(sorted_probs)\n",
        "\n",
        "    if not allow_zero_sets and sizes == 0:\n",
        "        sizes = 1\n",
        "\n",
        "    sizes = max(sizes, 1)\n",
        "    return sorted_indices[:sizes].tolist()\n",
        "\n",
        "def platt_scaling(logits_data, T):\n",
        "    logits_data = logits_data.cpu().numpy()\n",
        "    sorted_probs = []\n",
        "    sorted_indices =[]\n",
        "    for i in range(len(logits_data)):\n",
        "        scaled_logits = logits_data[i] / T.item()\n",
        "        probs = softmax(scaled_logits)\n",
        "        sorted_indices.append(np.argsort(probs)[::-1])\n",
        "        sorted_probs.append(np.sort(probs)[::-1])\n",
        "\n",
        "    return sorted_probs, sorted_indices\n",
        "\n",
        "def optimal_k_reg(sorted_indices_list, labels, alpha):\n",
        "\n",
        "    ranks = []\n",
        "    for i in range(len(labels)):\n",
        "        true_label = labels[i].item()\n",
        "        rank = np.where(sorted_indices_list[i] == true_label)[0][0]\n",
        "        ranks.append(rank)\n",
        "\n",
        "    k_reg = compute_threshold(np.array(ranks), alpha=alpha)\n",
        "    return k_reg\n",
        "\n",
        "def naive_predict(sorted_probs, sorted_indices, tau, randomized=False):\n",
        "    cum_sum = 0.0\n",
        "    L = 0\n",
        "\n",
        "    while L < len(sorted_probs) and cum_sum < tau:\n",
        "        cum_sum += sorted_probs[L]\n",
        "        L += 1\n",
        "\n",
        "    # Break ties randomly as per Algorithm 1\n",
        "    if randomized and L > 0:\n",
        "        U = np.random.uniform(0, 1)\n",
        "        score_sum = np.sum(sorted_probs[:L])\n",
        "        V = (score_sum - tau) / sorted_probs[L - 1] if sorted_probs[L - 1] > 0 else 0\n",
        "        if U <= V:\n",
        "            L -= 1\n",
        "\n",
        "    return sorted_indices[:L].tolist()\n"
      ]
    },
    {
      "cell_type": "markdown",
      "metadata": {
        "id": "tUYinDyFOY4u"
      },
      "source": [
        "## Getting Logits"
      ]
    },
    {
      "cell_type": "code",
      "execution_count": 7,
      "metadata": {
        "colab": {
          "base_uri": "https://localhost:8080/",
          "height": 356
        },
        "id": "mAiRw_jVOY4u",
        "outputId": "c9e5987b-78eb-4a9f-a298-be01887879a5"
      },
      "outputs": [],
      "source": [
        "\n",
        "logits_calib, labels_calib = get_logits(model, calib_loader, device)\n",
        "logits_test, labels_test = get_logits(model, test_loader, device)\n",
        "\n",
        "T = temperature_scaling(logits_calib, labels_calib)\n",
        "\n",
        "sorted_probs_calib, sorted_indices_calib = platt_scaling(logits_calib, T)\n",
        "sorted_probs_test, sorted_indices_test = platt_scaling(logits_test, T)\n",
        "\n",
        "param_logits, param_labels = get_logits(model, param_loader, device)\n",
        "sorted_probs_param, sorted_indices_param = platt_scaling(param_logits, T)"
      ]
    },
    {
      "cell_type": "markdown",
      "metadata": {
        "id": "JJElczr6OY4u"
      },
      "source": [
        "## Computing over values of alphas"
      ]
    },
    {
      "cell_type": "code",
      "execution_count": 8,
      "metadata": {
        "id": "vd6HKy_mOY4v"
      },
      "outputs": [
        {
          "name": "stdout",
          "output_type": "stream",
          "text": [
            "Optimal k_reg for alpha 0.01: 50\n",
            "Optimal k_reg for alpha 0.05: 8\n",
            "Optimal k_reg for alpha 0.1: 3\n"
          ]
        }
      ],
      "source": [
        "alphas =  [0.01, 0.05, 0.1]\n",
        "\n",
        "average_sizes = {'RAPS': [], 'APS': [], 'Naive': []}\n",
        "average_coverages = {'RAPS': [], 'APS': [], 'Naive': []}\n",
        "\n",
        "# Hyperparameters\n",
        "lambda_reg = 0.01\n",
        "k_reg = 5\n",
        "randomized = True\n",
        "allow_zero_sets = True\n",
        "allow_optimal_k = True\n",
        "\n",
        "for alpha in alphas:\n",
        "\n",
        "    # Optimal k_reg\n",
        "    k_reg = optimal_k_reg(sorted_indices_param, param_labels, alpha=alpha) if allow_optimal_k else k_reg\n",
        "    print(f\"Optimal k_reg for alpha {alpha}: {k_reg}\")\n",
        "\n",
        "\n",
        "    ########-------------RAPS------------#########\n",
        "    scores = compute_scores(sorted_probs_calib, sorted_indices_calib, labels_calib,lambda_reg=lambda_reg,\n",
        "                             k_reg=k_reg, randomized=randomized, allow_zero_sets=allow_zero_sets)\n",
        "\n",
        "    tau = compute_threshold(scores, alpha=alpha)\n",
        "\n",
        "\n",
        "    prediction_sets = [\n",
        "        predict_set(sorted_probs_test[i], sorted_indices_test[i], tau,lambda_reg=lambda_reg,\n",
        "                    k_reg=k_reg,randomized=randomized, allow_zero_sets=allow_zero_sets)\n",
        "        for i in range(len(sorted_probs_test))\n",
        "    ]\n",
        "\n",
        "    sizes = [len(pset) for pset in prediction_sets]\n",
        "    coverage = np.mean([\n",
        "        labels_test[i].item() in prediction_sets[i] for i in range(len(labels_test))\n",
        "    ])\n",
        "\n",
        "    average_sizes['RAPS'].append(np.mean(sizes))\n",
        "    average_coverages['RAPS'].append(coverage)\n",
        "\n",
        "    ###########-----APS(RAPS with lambda=0)---#######\n",
        "\n",
        "    scores_aps = compute_scores(sorted_probs_calib, sorted_indices_calib, labels_calib,lambda_reg=0,\n",
        "                             k_reg=0, randomized=randomized, allow_zero_sets=allow_zero_sets)\n",
        "\n",
        "    tau_aps = compute_threshold(scores_aps, alpha=alpha)\n",
        "\n",
        "\n",
        "    prediction_sets_aps = [\n",
        "        predict_set(sorted_probs_test[i], sorted_indices_test[i], tau_aps,lambda_reg=0,\n",
        "                    k_reg=0,randomized=randomized, allow_zero_sets=allow_zero_sets)\n",
        "        for i in range(len(sorted_probs_test))\n",
        "    ]\n",
        "\n",
        "    sizes_aps = [len(pset) for pset in prediction_sets_aps]\n",
        "    coverage_aps = np.mean([ labels_test[i].item() in prediction_sets_aps[i] for i in range(len(labels_test))])\n",
        "\n",
        "    average_sizes['APS'].append(np.mean(sizes_aps))\n",
        "    average_coverages['APS'].append(coverage_aps)\n",
        "\n",
        "    ########---Naive ---#######\n",
        "    tau = 1 - alpha\n",
        "\n",
        "    prediction_sets_naive = [\n",
        "        naive_predict(sorted_probs_test[i], sorted_indices_test[i], tau, randomized=randomized)\n",
        "        for i in range(len(sorted_probs_test))\n",
        "    ]\n",
        "\n",
        "    sizes_naive = [len(pset) for pset in prediction_sets_naive]\n",
        "    coverage_naive = np.mean([labels_test[i].item() in prediction_sets_naive[i] for i in range(len(labels_test))])\n",
        "\n",
        "    average_sizes['Naive'].append(np.mean(sizes_naive))\n",
        "    average_coverages['Naive'].append(coverage_naive)\n",
        "\n",
        "\n",
        "\n"
      ]
    },
    {
      "cell_type": "code",
      "execution_count": null,
      "metadata": {
        "id": "NuV8ulP9OY4v"
      },
      "outputs": [
        {
          "data": {
            "image/png": "[encoded data removed]",
            "text/plain": [
              "<Figure size 1200x450 with 2 Axes>"
            ]
          },
          "metadata": {},
          "output_type": "display_data"
        }
      ],
      "source": [
        "# print(\"-\" * len(header))\n",
        "import matplotlib.pyplot as plt\n",
        "import seaborn as sns\n",
        "import numpy as np\n",
        "\n",
        "sns.set(style=\"whitegrid\")\n",
        "\n",
        "methods = ['RAPS', 'APS', 'Naive']\n",
        "colors = ['#FF5733', '#2980B9', '#27AE60']  # RAPS, APS, Naive\n",
        "x = np.arange(len(alphas))\n",
        "bar_width = 0.2  \n",
        "spacing = bar_width * len(methods) + 0.05 \n",
        "\n",
        "\n",
        "fig, axs = plt.subplots(1, 2, figsize=(12, 4.5)) \n",
        "\n",
        "\n",
        "for i, method in enumerate(methods):\n",
        "    axs[0].bar(x + i * bar_width, average_sizes[method], width=bar_width, label=method, color=colors[i])\n",
        "\n",
        "axs[0].set_xticks(x + (len(methods) - 1) * bar_width / 2)\n",
        "axs[0].set_xticklabels(alphas)\n",
        "axs[0].set_xlabel('Alpha')\n",
        "axs[0].set_ylabel('Average Prediction Set Size')\n",
        "axs[0].set_title('Prediction Set Size vs Alpha')\n",
        "axs[0].legend()\n",
        "axs[0].grid(axis='y', linestyle='--', alpha=0.5)\n",
        "\n",
        "\n",
        "for i, method in enumerate(methods):\n",
        "    axs[1].bar(x + i * bar_width, average_coverages[method], width=bar_width, label=method, color=colors[i])\n",
        "\n",
        "for i, alpha in enumerate(alphas):\n",
        "    y = 1 - alpha\n",
        "    axs[1].axhline(y=y, color='k', linestyle='--', linewidth=1, alpha=0.4)\n",
        "    axs[1].text(len(alphas) - 0.7, y + 0.002, f'1-α={y:.2f}', color='k', fontsize=8, alpha=0.6)\n",
        "\n",
        "axs[1].set_xticks(x + (len(methods) - 1) * bar_width / 2)\n",
        "axs[1].set_xticklabels(alphas)\n",
        "axs[1].set_xlabel('Alpha')\n",
        "axs[1].set_ylabel('Coverage')\n",
        "axs[1].set_title('Coverage vs Alpha')\n",
        "axs[1].legend()\n",
        "axs[1].grid(axis='y', linestyle='--', alpha=0.5)\n",
        "\n",
        "plt.suptitle(f\"Conformal Results on {'ResNet152'.upper()}\", fontsize=14)\n",
        "plt.tight_layout(rect=[0, 0, 1, 0.95])\n",
        "plt.savefig(f\"conformal_summary_{'ResNet152'.lower()}_optimal.png\", dpi=300)\n",
        "plt.show()\n"
      ]
    },
    {
      "cell_type": "code",
      "execution_count": null,
      "metadata": {
        "id": "FSs8WuLBR4H6"
      },
      "outputs": [
        {
          "name": "stdout",
          "output_type": "stream",
          "text": [
            "\n",
            "-------------------------------------------------------------------------------------------------------------------\n",
            "Alpha           RAPS Size       RAPS Coverage       APS Size        APS Coverage     Naive Size      Naive Coverage\n",
            "-------------------------------------------------------------------------------------------------------------------\n",
            "0.01               34.825               0.991        111.631               0.992         88.850               0.988\n",
            "0.05                6.004               0.958         26.331               0.963         25.290               0.945\n",
            "0.10                3.993               0.930         13.188               0.940         12.266               0.899\n",
            "-------------------------------------------------------------------------------------------------------------------\n"
          ]
        }
      ],
      "source": [
        "methods = ['RAPS', 'APS', 'Naive']\n",
        "\n",
        "# Header\n",
        "header = f\"{'Alpha':<10}\"\n",
        "for method in methods:\n",
        "    header += f\"{method + ' Size':>15}{method + ' Coverage':>20}\"\n",
        "print(\"\\n\" + \"-\" * len(header))\n",
        "print(header)\n",
        "print(\"-\" * len(header))\n",
        "\n",
        "# Rows\n",
        "for i, alpha in enumerate(alphas):\n",
        "    row = f\"{alpha:<10.2f}\"\n",
        "    for method in methods:\n",
        "        size = average_sizes[method][i] if method in average_sizes else float('nan')\n",
        "        cov = average_coverages[method][i] if method in average_coverages else float('nan')\n",
        "        row += f\"{size:>15.3f}{cov:>20.3f}\"\n",
        "    print(row)\n",
        "\n",
        "print(\"-\" * len(header))"
      ]
    }
  ],
  "metadata": {
    "accelerator": "GPU",
    "colab": {
      "gpuType": "T4",
      "provenance": []
    },
    "kernelspec": {
      "display_name": "venv",
      "language": "python",
      "name": "python3"
    },
    "language_info": {
      "codemirror_mode": {
        "name": "ipython",
        "version": 3
      },
      "file_extension": ".py",
      "mimetype": "text/x-python",
      "name": "python",
      "nbconvert_exporter": "python",
      "pygments_lexer": "ipython3",
      "version": "3.12.3"
    }
  },
  "nbformat": 4,
  "nbformat_minor": 0
}
