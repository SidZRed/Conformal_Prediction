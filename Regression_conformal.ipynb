{
  "cells": [
    {
      "cell_type": "code",
      "execution_count": 1,
      "id": "fc02f6cd-c5a6-4ee7-bb26-0ded470d2e61",
      "metadata": {
        "id": "fc02f6cd-c5a6-4ee7-bb26-0ded470d2e61"
      },
      "outputs": [
        {
          "name": "stderr",
          "output_type": "stream",
          "text": [
            "2025-04-13 23:02:17.955149: I tensorflow/core/util/port.cc:153] oneDNN custom operations are on. You may see slightly different numerical results due to floating-point round-off errors from different computation orders. To turn them off, set the environment variable `TF_ENABLE_ONEDNN_OPTS=0`.\n",
            "2025-04-13 23:02:17.963677: E external/local_xla/xla/stream_executor/cuda/cuda_fft.cc:467] Unable to register cuFFT factory: Attempting to register factory for plugin cuFFT when one has already been registered\n",
            "WARNING: All log messages before absl::InitializeLog() is called are written to STDERR\n",
            "E0000 00:00:1744565537.973731  120996 cuda_dnn.cc:8579] Unable to register cuDNN factory: Attempting to register factory for plugin cuDNN when one has already been registered\n",
            "E0000 00:00:1744565537.976710  120996 cuda_blas.cc:1407] Unable to register cuBLAS factory: Attempting to register factory for plugin cuBLAS when one has already been registered\n",
            "W0000 00:00:1744565537.984614  120996 computation_placer.cc:177] computation placer already registered. Please check linkage and avoid linking the same target more than once.\n",
            "W0000 00:00:1744565537.984627  120996 computation_placer.cc:177] computation placer already registered. Please check linkage and avoid linking the same target more than once.\n",
            "W0000 00:00:1744565537.984629  120996 computation_placer.cc:177] computation placer already registered. Please check linkage and avoid linking the same target more than once.\n",
            "W0000 00:00:1744565537.984629  120996 computation_placer.cc:177] computation placer already registered. Please check linkage and avoid linking the same target more than once.\n",
            "2025-04-13 23:02:17.987474: I tensorflow/core/platform/cpu_feature_guard.cc:210] This TensorFlow binary is optimized to use available CPU instructions in performance-critical operations.\n",
            "To enable the following instructions: AVX2 AVX_VNNI FMA, in other operations, rebuild TensorFlow with the appropriate compiler flags.\n"
          ]
        }
      ],
      "source": [
        "from sklearn.datasets import fetch_california_housing\n",
        "from sklearn.model_selection import train_test_split\n",
        "import numpy as np\n",
        "import torch\n",
        "import torch.optim as optim\n",
        "import tensorflow as tf\n",
        "tf.config.set_visible_devices([], 'GPU')\n",
        "from tensorflow.keras import layers, models\n",
        "import torch\n",
        "import numpy as np\n",
        "import math\n",
        "from sklearn.model_selection import StratifiedShuffleSplit\n",
        "\n",
        "# Load dataset\n",
        "data = fetch_california_housing()\n",
        "X, y = data.data, data.target  # Features and target\n",
        "\n",
        "# Shuffle and split data\n",
        "X, y = np.random.permutation(X), np.random.permutation(y)\n",
        "X_train, X_test, y_train, y_test = train_test_split(X, y, test_size=0.3, random_state=42)\n"
      ]
    },
    {
      "cell_type": "code",
      "execution_count": 2,
      "id": "ff909690",
      "metadata": {
        "id": "ff909690"
      },
      "outputs": [],
      "source": [
        "#created the calibration set and the proper training set\n",
        "X_train = torch.tensor(X_train, dtype=torch.float32)\n",
        "y_train = torch.tensor(y_train, dtype=torch.float32).view(-1, 1)\n",
        "\n",
        "\n",
        "X_test = torch.tensor(X_test, dtype=torch.float32)\n",
        "y_test = torch.tensor(y_test, dtype=torch.float32).view(-1, 1)\n",
        "\n",
        "device = torch.device('cuda' if torch.cuda.is_available() else 'cpu')\n",
        "\n",
        "# Move tensors to the selected device (GPU or CPU)\n",
        "X_train_normal = X_train.clone()\n",
        "y_train_normal = y_train.clone()\n",
        "X_test_normal = X_test.clone()\n",
        "y_test_normal = y_test.clone()\n",
        "\n",
        "\n",
        "X_train = X_train.to(device)\n",
        "y_train = y_train.to(device)\n",
        "X_test = X_test.to(device)\n",
        "y_test = y_test.to(device)\n",
        "\n",
        "X_train, X_full_calib, y_train, y_full_calib = train_test_split(X_train, y_train, test_size=0.1, random_state=42)\n"
      ]
    },
    {
      "cell_type": "code",
      "execution_count": 3,
      "id": "56a8ae75",
      "metadata": {
        "id": "56a8ae75"
      },
      "outputs": [],
      "source": [
        "def repeat_sampling(num_epochs, sample_size):\n",
        "    def decorator(func):\n",
        "        def wrapper(X_full_calib, y_full_calib, *args, **kwargs):\n",
        "            all_coverages = []\n",
        "            N = X_full_calib.shape[0]\n",
        "\n",
        "            for epoch in range(num_epochs):\n",
        "                torch.manual_seed(epoch)  # Reproducible sampling\n",
        "                indices = torch.randperm(N)\n",
        "\n",
        "                calib_idx = indices[:sample_size]\n",
        "\n",
        "                X_calib = X_full_calib[calib_idx]\n",
        "                y_calib = y_full_calib[calib_idx]\n",
        "                coverage = func(\n",
        "                    X_calib, y_calib,\n",
        "                    X_test, y_test,\n",
        "                    *args, **kwargs\n",
        "                )\n",
        "                all_coverages.append(coverage)\n",
        "\n",
        "            mean_coverage = np.mean(all_coverages, axis=0)\n",
        "            return mean_coverage\n",
        "        return wrapper\n",
        "    return decorator\n"
      ]
    },
    {
      "cell_type": "code",
      "execution_count": 4,
      "id": "a60ab015",
      "metadata": {
        "id": "a60ab015"
      },
      "outputs": [],
      "source": [
        "exp_iter = 500\n",
        "exp_sample_size = 1000"
      ]
    },
    {
      "cell_type": "code",
      "execution_count": 5,
      "id": "10c0aee4",
      "metadata": {
        "id": "10c0aee4"
      },
      "outputs": [],
      "source": [
        "def quantile_loss(y_pred, y_true, tau):\n",
        "    errors = y_true - y_pred\n",
        "    return torch.mean(torch.max(tau * errors, (tau - 1) * errors))\n"
      ]
    },
    {
      "cell_type": "code",
      "execution_count": 6,
      "id": "5365e319",
      "metadata": {
        "id": "5365e319"
      },
      "outputs": [],
      "source": [
        "def get_coverage_quantile_regression(alpha):\n",
        "    input_dim = X_train.shape[1]\n",
        "\n",
        "    W_lower = torch.randn((input_dim, 1), requires_grad=True, dtype=torch.float32, device=device)\n",
        "    b_lower = torch.zeros(1, requires_grad=True, dtype=torch.float32, device=device)\n",
        "\n",
        "    W_upper = torch.randn((input_dim, 1), requires_grad=True, dtype=torch.float32, device=device)\n",
        "    b_upper = torch.zeros(1, requires_grad=True, dtype=torch.float32, device=device)\n",
        "\n",
        "    # Hyperparameters\n",
        "    taus = [alpha / 2, 1 - alpha / 2]  # Lower and Upper Quantiles\n",
        "    epochs = 500\n",
        "    lr = 0.01\n",
        "\n",
        "    # Optimizers\n",
        "    opt_lower = optim.Adam([W_lower, b_lower], lr=lr)\n",
        "    opt_upper = optim.Adam([W_upper, b_upper], lr=lr)\n",
        "\n",
        "    for epoch in range(epochs):\n",
        "        # Lower Quantile Model (tau = alpha/2)\n",
        "        opt_lower.zero_grad()\n",
        "        y_pred_lower = torch.matmul(X_train, W_lower) + b_lower\n",
        "        loss_lower = quantile_loss(y_pred_lower, y_train, taus[0])\n",
        "        loss_lower.backward()\n",
        "        opt_lower.step()\n",
        "\n",
        "        # Upper Quantile Model (tau = 1-alpha/2)\n",
        "        opt_upper.zero_grad()\n",
        "        y_pred_upper = torch.matmul(X_train, W_upper) + b_upper\n",
        "        loss_upper = quantile_loss(y_pred_upper, y_train, taus[1])\n",
        "        loss_upper.backward()\n",
        "        opt_upper.step()\n",
        "\n",
        "    @repeat_sampling(num_epochs=exp_iter, sample_size=exp_sample_size)\n",
        "    def calc_cvg(X_cal, y_cal, X_test, y_test):\n",
        "        # Move tensors to device\n",
        "        X_cal = X_cal.to(device)\n",
        "        y_cal = y_cal.to(device)\n",
        "\n",
        "        y_lower_pred = torch.matmul(X_cal, W_lower).detach()\n",
        "        y_upper_pred = torch.matmul(X_cal, W_upper).detach()\n",
        "\n",
        "        score_array = torch.maximum(y_lower_pred - y_cal, y_cal - y_upper_pred).clamp(min=0)\n",
        "\n",
        "        # Compute the quantile index\n",
        "        import math\n",
        "        n = score_array.shape[0]\n",
        "        quantile_index = math.ceil((n + 1) * (1 - alpha)) / n\n",
        "\n",
        "        # Compute the required quantile\n",
        "        q_hat = torch.quantile(score_array, quantile_index)\n",
        "        y_lower_pred_test = torch.matmul(X_test, W_lower).detach()\n",
        "        y_upper_pred_test = torch.matmul(X_test, W_upper).detach()\n",
        "\n",
        "        covered = (y_test >= (y_lower_pred_test - q_hat)) & (y_test <= (y_upper_pred_test + q_hat))\n",
        "\n",
        "        return covered.float().mean().item()\n",
        "\n",
        "    return calc_cvg(X_full_calib, y_full_calib)\n"
      ]
    },
    {
      "cell_type": "code",
      "execution_count": 7,
      "id": "e06ff6dd",
      "metadata": {
        "colab": {
          "base_uri": "https://localhost:8080/"
        },
        "id": "e06ff6dd",
        "outputId": "56678faf-e93d-475c-c39f-b32c405dab44"
      },
      "outputs": [
        {
          "data": {
            "text/plain": [
              "0.9038336796760559"
            ]
          },
          "execution_count": 7,
          "metadata": {},
          "output_type": "execute_result"
        }
      ],
      "source": [
        "get_coverage_quantile_regression(0.1)"
      ]
    },
    {
      "cell_type": "markdown",
      "id": "e0672d13",
      "metadata": {
        "id": "e0672d13"
      },
      "source": [
        "### Uncertainty Estimate Method"
      ]
    },
    {
      "cell_type": "code",
      "execution_count": 8,
      "id": "8e94f747",
      "metadata": {
        "id": "8e94f747"
      },
      "outputs": [],
      "source": [
        "def get_coverage_uncertainty_model(alpha, X_test=X_test, y_test=y_test):\n",
        "    def build_point_predictor(input_shape):\n",
        "        model = models.Sequential([\n",
        "            layers.InputLayer(input_shape=(input_shape,)),\n",
        "            layers.Dense(32, activation='relu'),\n",
        "            layers.Dense(16, activation='relu'),\n",
        "            layers.Dense(1)\n",
        "        ])\n",
        "        model.compile(optimizer='adam', loss='mse')\n",
        "        return model\n",
        "\n",
        "    def build_uncertainty_predictor(input_shape):\n",
        "        model = models.Sequential([\n",
        "            layers.InputLayer(input_shape=(input_shape,)),\n",
        "            layers.Dense(32, activation='relu'),\n",
        "            layers.Dense(16, activation='relu'),\n",
        "            layers.Dense(1)\n",
        "        ])\n",
        "        model.compile(optimizer='adam', loss='mse')\n",
        "        return model\n",
        "\n",
        "    # Convert to NumPy\n",
        "    X_train_np = X_train.detach().cpu().numpy()\n",
        "    y_train_np = y_train.detach().cpu().numpy()\n",
        "\n",
        "    # Fit point predictor\n",
        "    point_model = build_point_predictor(X_train_np.shape[1])\n",
        "    point_model.fit(X_train_np, y_train_np, epochs=50, batch_size=16, verbose=0)\n",
        "\n",
        "    # Get absolute residuals\n",
        "    y_hat_train = point_model.predict(X_train_np, verbose=0)\n",
        "    residuals_train = np.abs(y_train_np - y_hat_train)\n",
        "\n",
        "    # Fit uncertainty model\n",
        "    uncertainty_model = build_uncertainty_predictor(X_train_np.shape[1])\n",
        "    uncertainty_model.fit(X_train_np, residuals_train, epochs=50, batch_size=16, verbose=0)\n",
        "\n",
        "    # Run repeated trials\n",
        "    coverage_trials = []\n",
        "    for _ in range(exp_iter):\n",
        "        # Random calibration set from full\n",
        "        idx = np.random.choice(len(X_test), size=exp_sample_size, replace=False)\n",
        "        X_cal_np = X_test[idx].detach().cpu().numpy()\n",
        "        y_cal_np = y_test[idx].detach().cpu().numpy()\n",
        "\n",
        "        y_hat_calib = point_model.predict(X_cal_np, verbose=0)\n",
        "        residuals_calib = np.abs(y_cal_np - y_hat_calib)\n",
        "        uncertainty_scores = uncertainty_model.predict(X_cal_np, verbose=0)\n",
        "\n",
        "        scores = np.divide(residuals_calib, uncertainty_scores + 1e-8)\n",
        "        n = scores.shape[0]\n",
        "        quantile_index = math.ceil((n + 1) * (1 - alpha)) / n\n",
        "        q_hat = np.quantile(scores, quantile_index)\n",
        "\n",
        "        # Test set\n",
        "        X_test_np = X_test.detach().cpu().numpy()\n",
        "        y_test_np = y_test.detach().cpu().numpy()\n",
        "        y_hat_test = point_model.predict(X_test_np, verbose=0)\n",
        "        uncertainty_scores_test = uncertainty_model.predict(X_test_np, verbose=0)\n",
        "\n",
        "        lower = y_hat_test - q_hat * uncertainty_scores_test\n",
        "        upper = y_hat_test + q_hat * uncertainty_scores_test\n",
        "        covered = (y_test_np >= lower) & (y_test_np <= upper)\n",
        "        coverage_trials.append(covered.mean())\n",
        "\n",
        "    return np.array(coverage_trials)\n"
      ]
    },
    {
      "cell_type": "code",
      "execution_count": 9,
      "id": "2a5a2e08",
      "metadata": {
        "id": "2a5a2e08"
      },
      "outputs": [],
      "source": [
        "# get_coverage_uncertainty_model(0.5)"
      ]
    },
    {
      "cell_type": "code",
      "execution_count": 10,
      "id": "7e854906",
      "metadata": {
        "id": "7e854906"
      },
      "outputs": [],
      "source": [
        "import xgboost as xgb\n",
        "import numpy as np\n",
        "import math\n",
        "\n",
        "def get_coverage_xgboost(alpha):\n",
        "    # Train an XGBoost model for Point Prediction using GPU\n",
        "    def build_point_predictor():\n",
        "        model = xgb.XGBRegressor(\n",
        "            n_estimators=100,\n",
        "            max_depth=6,\n",
        "            learning_rate=0.1,\n",
        "            tree_method='gpu_hist',\n",
        "            predictor='gpu_predictor',\n",
        "            verbosity=0\n",
        "        )\n",
        "        return model\n",
        "\n",
        "    # Convert PyTorch tensors to CPU numpy arrays if needed\n",
        "    def to_numpy(x):\n",
        "        return x.detach().cpu().numpy() if hasattr(x, \"detach\") else x\n",
        "\n",
        "    X_train_np = to_numpy(X_train)\n",
        "    y_train_np = to_numpy(y_train)\n",
        "\n",
        "    # Train the Point Predictor Model\n",
        "    point_model = build_point_predictor()\n",
        "    point_model.fit(X_train_np, y_train_np)\n",
        "\n",
        "    # Get the Point Predictions and Residuals\n",
        "    y_hat_train = point_model.predict(X_train_np)\n",
        "    residuals_train = np.abs(y_train_np - y_hat_train)\n",
        "\n",
        "    # Uncertainty estimation: std deviation of tree leaf indices\n",
        "    leaf_preds_train = point_model.apply(X_train_np)\n",
        "    uncertainty_scores = np.std(leaf_preds_train, axis=1)\n",
        "\n",
        "    # Store all trial results here\n",
        "    coverage_trials = []\n",
        "\n",
        "    for _ in range(exp_iter):\n",
        "        # Sample a calibration set from full calibration data\n",
        "        idx = np.random.choice(len(X_full_calib), size=exp_sample_size, replace=False)\n",
        "        X_cal_np = to_numpy(X_full_calib[idx])\n",
        "        y_cal_np = to_numpy(y_full_calib[idx])\n",
        "        X_test_np = to_numpy(X_test)\n",
        "        y_test_np = to_numpy(y_test)\n",
        "\n",
        "        y_hat_calib = point_model.predict(X_cal_np)\n",
        "        residuals_calib = np.abs(y_cal_np - y_hat_calib)\n",
        "\n",
        "        leaf_preds_calib = point_model.apply(X_cal_np)\n",
        "        uncertainty_scores_calib = np.std(leaf_preds_calib, axis=1)\n",
        "\n",
        "        scores = np.divide(residuals_calib, uncertainty_scores_calib + 1e-8)\n",
        "        n = scores.shape[0]\n",
        "        quantile_index = math.ceil((n + 1) * (1 - alpha)) / n\n",
        "        q_hat = np.quantile(scores, quantile_index)\n",
        "\n",
        "        y_hat_test = point_model.predict(X_test_np)\n",
        "        leaf_preds_test = point_model.apply(X_test_np)\n",
        "        uncertainty_scores_test = np.std(leaf_preds_test, axis=1)\n",
        "\n",
        "        lower_bound = y_hat_test - q_hat * uncertainty_scores_test\n",
        "        upper_bound = y_hat_test + q_hat * uncertainty_scores_test\n",
        "\n",
        "        covered = (y_test_np >= lower_bound) & (y_test_np <= upper_bound)\n",
        "        coverage_trials.append(covered.mean())\n",
        "\n",
        "    return np.array(coverage_trials)\n"
      ]
    },
    {
      "cell_type": "code",
      "execution_count": 11,
      "id": "ed277519",
      "metadata": {
        "colab": {
          "base_uri": "https://localhost:8080/"
        },
        "id": "ed277519",
        "outputId": "38cd6a18-c450-4a90-dc87-623caf1e0dea"
      },
      "outputs": [
        {
          "data": {
            "text/plain": [
              "array([0.49427613, 0.49537616, 0.4863259 , 0.49321919, 0.49593569,\n",
              "       0.49635509, 0.49466778, 0.48455992, 0.48313048, 0.48739348,\n",
              "       0.47632443, 0.4765704 , 0.484921  , 0.48077931, 0.49504813,\n",
              "       0.49609297, 0.47970121, 0.48549208, 0.47204294, 0.48501158,\n",
              "       0.47868209, 0.48365916, 0.48168033, 0.48979582, 0.48241088,\n",
              "       0.47526725, 0.49178427, 0.48839066, 0.49104256, 0.47900439,\n",
              "       0.48107176, 0.47996313, 0.48499194, 0.47981081, 0.50000676,\n",
              "       0.4906801 , 0.47993191, 0.49656406, 0.4706799 , 0.4978929 ,\n",
              "       0.48876358, 0.50644414, 0.47233075, 0.4800637 , 0.50249102,\n",
              "       0.49971876, 0.49229996, 0.47569512, 0.49543688, 0.49017111,\n",
              "       0.47685128, 0.48990263, 0.48408134, 0.47532114, 0.48101981,\n",
              "       0.48685053, 0.48546178, 0.47630226, 0.47993892, 0.47367195,\n",
              "       0.482917  , 0.48642399, 0.48787044, 0.4980436 , 0.49084027,\n",
              "       0.49017111, 0.47623528, 0.47240709, 0.47625445, 0.47900926,\n",
              "       0.49308631, 0.50045873, 0.47528384, 0.49083657, 0.49336223,\n",
              "       0.48062472, 0.49510906, 0.48782769, 0.48494254, 0.47731332,\n",
              "       0.4916378 , 0.48569498, 0.49514385, 0.49491782, 0.46901337,\n",
              "       0.48974395, 0.48204553, 0.49023728, 0.4885453 , 0.4819875 ,\n",
              "       0.49567177, 0.48761861, 0.48485746, 0.49733929, 0.49005335,\n",
              "       0.49082201, 0.48489562, 0.47777643, 0.50785353, 0.48218115,\n",
              "       0.47661276, 0.48075294, 0.48662628, 0.48400474, 0.48803227,\n",
              "       0.50058554, 0.4872826 , 0.48412516, 0.49072149, 0.47714538,\n",
              "       0.48073695, 0.48193215, 0.49016415, 0.48853857, 0.470484  ,\n",
              "       0.4856341 , 0.49405199, 0.47970533, 0.49081497, 0.48286557,\n",
              "       0.47805269, 0.48395107, 0.48092158, 0.48635769, 0.47889761,\n",
              "       0.4814109 , 0.50471573, 0.48203423, 0.49246115, 0.48137256,\n",
              "       0.50054274, 0.50506196, 0.48559725, 0.47598716, 0.48323948,\n",
              "       0.48501601, 0.49123747, 0.48849864, 0.48982678, 0.48703897,\n",
              "       0.47522578, 0.48860164, 0.49136167, 0.48413278, 0.49440216,\n",
              "       0.48629408, 0.47260732, 0.48840034, 0.49014754, 0.48634233,\n",
              "       0.48702504, 0.47849542, 0.4907302 , 0.48687573, 0.48132442,\n",
              "       0.48092711, 0.48230434, 0.50374606, 0.48544587, 0.49015119,\n",
              "       0.4925256 , 0.49290814, 0.47178444, 0.48384468, 0.48324185,\n",
              "       0.47154224, 0.48427584, 0.47862059, 0.48072704, 0.49149052,\n",
              "       0.49079207, 0.48280307, 0.4835355 , 0.48500887, 0.48726265,\n",
              "       0.48668835, 0.48732439, 0.48856059, 0.47879257, 0.48546939,\n",
              "       0.47914974, 0.48813931, 0.48012778, 0.49472946, 0.49063404,\n",
              "       0.48239922, 0.49509239, 0.48816832, 0.47580858, 0.47666714,\n",
              "       0.48128981, 0.48898215, 0.48808334, 0.48056609, 0.47863595,\n",
              "       0.4917462 , 0.48570215, 0.49790422, 0.47985004, 0.47770468,\n",
              "       0.47117227, 0.47514281, 0.48340953, 0.48390746, 0.48826359,\n",
              "       0.48430614, 0.48912017, 0.49742953, 0.48353863, 0.47614785,\n",
              "       0.46931183, 0.47599475, 0.47737944, 0.49010489, 0.49257714,\n",
              "       0.49505215, 0.49127591, 0.47739887, 0.49279586, 0.49052703,\n",
              "       0.47086717, 0.47819478, 0.47324069, 0.49219222, 0.49255872,\n",
              "       0.47994933, 0.47507404, 0.48473848, 0.49319053, 0.47835683,\n",
              "       0.483906  , 0.48061465, 0.49756398, 0.48960044, 0.48276481,\n",
              "       0.49214233, 0.47753861, 0.48216055, 0.47607568, 0.49129631,\n",
              "       0.47828374, 0.48617532, 0.48908217, 0.4881661 , 0.49210555,\n",
              "       0.47578612, 0.48447883, 0.47987028, 0.47530875, 0.46833433,\n",
              "       0.49173078, 0.4713181 , 0.48903825, 0.4906047 , 0.49305754,\n",
              "       0.48448418, 0.50014632, 0.48445841, 0.47517231, 0.48627209,\n",
              "       0.48060083, 0.49645621, 0.48074475, 0.48035464, 0.4867304 ,\n",
              "       0.48055636, 0.4728123 , 0.49543667, 0.48658197, 0.48457487,\n",
              "       0.47996847, 0.49050337, 0.4851778 , 0.48646906, 0.4883651 ,\n",
              "       0.48826015, 0.49062859, 0.49453925, 0.48479993, 0.48333619,\n",
              "       0.48932831, 0.50095673, 0.48876358, 0.48078095, 0.49059713,\n",
              "       0.48097296, 0.48848448, 0.47926664, 0.47568508, 0.48422028,\n",
              "       0.48258213, 0.49232367, 0.4862651 , 0.48192944, 0.49396393,\n",
              "       0.50940156, 0.48674688, 0.48889613, 0.48248425, 0.4808799 ,\n",
              "       0.48984436, 0.48718759, 0.49666951, 0.49543169, 0.48301974,\n",
              "       0.47150341, 0.46663904, 0.48079117, 0.47305601, 0.48427998,\n",
              "       0.48322977, 0.48978714, 0.48543643, 0.48672213, 0.47510695,\n",
              "       0.49390225, 0.47997583, 0.47781938, 0.49351603, 0.47559622,\n",
              "       0.48957632, 0.47872012, 0.47283723, 0.48993056, 0.49353066,\n",
              "       0.48113827, 0.48685288, 0.47901589, 0.48982673, 0.49785772,\n",
              "       0.48281236, 0.48727496, 0.4752709 , 0.48487324, 0.48032475,\n",
              "       0.49271576, 0.48634055, 0.49091309, 0.484131  , 0.47803897,\n",
              "       0.48251033, 0.49996343, 0.4928288 , 0.50239095, 0.49521844,\n",
              "       0.47532938, 0.48881577, 0.47474507, 0.4895614 , 0.49455151,\n",
              "       0.47677235, 0.49015807, 0.48188205, 0.46955483, 0.49211687,\n",
              "       0.48886436, 0.48258213, 0.48016349, 0.49421998, 0.4915204 ,\n",
              "       0.48442263, 0.48748914, 0.49495867, 0.47813477, 0.4991418 ,\n",
              "       0.48399812, 0.49361079, 0.48047524, 0.48402636, 0.48411596,\n",
              "       0.48032872, 0.49384432, 0.48221876, 0.49229965, 0.49073732,\n",
              "       0.49176542, 0.48362903, 0.50439221, 0.4776269 , 0.47135038,\n",
              "       0.48089148, 0.4841207 , 0.48740008, 0.4847518 , 0.48700921,\n",
              "       0.49578439, 0.48671535, 0.4894873 , 0.47911792, 0.4919416 ,\n",
              "       0.48696461, 0.48211983, 0.48313426, 0.47234924, 0.4865756 ,\n",
              "       0.48428611, 0.48593389, 0.48122705, 0.49141696, 0.49203672,\n",
              "       0.46785735, 0.48803705, 0.46505504, 0.47991592, 0.48144984,\n",
              "       0.4851158 , 0.48031169, 0.49046599, 0.49279461, 0.48919782,\n",
              "       0.47669612, 0.47830166, 0.48025963, 0.47393405, 0.48135898,\n",
              "       0.50532505, 0.48204602, 0.48814612, 0.4750129 , 0.47640053,\n",
              "       0.48611419, 0.48788301, 0.49050467, 0.48651661, 0.47461771,\n",
              "       0.47510194, 0.5039834 , 0.49606018, 0.4923152 , 0.48170226,\n",
              "       0.48780622, 0.47627724, 0.49848918, 0.4965144 , 0.48985975,\n",
              "       0.48775145, 0.50338067, 0.48286324, 0.48922844, 0.48344602,\n",
              "       0.48047663, 0.48339192, 0.48960652, 0.47534829, 0.4728177 ,\n",
              "       0.47558902, 0.48048046, 0.49780662, 0.49802986, 0.48445872,\n",
              "       0.49592962, 0.49487508, 0.47344807, 0.48814755, 0.48360592,\n",
              "       0.48312552, 0.4734875 , 0.4899949 , 0.4878255 , 0.49149737,\n",
              "       0.48282021, 0.47878326, 0.48035855, 0.48279627, 0.48056624,\n",
              "       0.47692214, 0.482398  , 0.47672512, 0.48628792, 0.48884503,\n",
              "       0.4891582 , 0.48027353, 0.47837584, 0.48445984, 0.48927463,\n",
              "       0.49430042, 0.4752679 , 0.48956813, 0.48100992, 0.48508977,\n",
              "       0.48305982, 0.47588729, 0.48560353, 0.49771531, 0.48121237,\n",
              "       0.49427692, 0.49050055, 0.49824983, 0.49219107, 0.48844575,\n",
              "       0.4842033 , 0.48989452, 0.47480651, 0.47822574, 0.49249414,\n",
              "       0.49439778, 0.48677967, 0.48429206, 0.48670301, 0.497113  ])"
            ]
          },
          "execution_count": 11,
          "metadata": {},
          "output_type": "execute_result"
        }
      ],
      "source": [
        "get_coverage_xgboost(0.5)"
      ]
    },
    {
      "cell_type": "code",
      "execution_count": 12,
      "id": "Fe1yLqmn9ZUW",
      "metadata": {
        "colab": {
          "base_uri": "https://localhost:8080/"
        },
        "id": "Fe1yLqmn9ZUW",
        "outputId": "1cfd2b8e-db24-4e46-cc80-2ec3d51d2a44"
      },
      "outputs": [
        {
          "name": "stdout",
          "output_type": "stream",
          "text": [
            "Alpha: 0.01\n",
            "Alpha: 0.02\n",
            "Alpha: 0.03\n",
            "Alpha: 0.04\n",
            "Alpha: 0.05\n",
            "Alpha: 0.060000000000000005\n",
            "Alpha: 0.06999999999999999\n",
            "Alpha: 0.08\n",
            "Alpha: 0.09\n",
            "Alpha: 0.09999999999999999\n",
            "Alpha: 0.11\n",
            "Alpha: 0.12\n",
            "Alpha: 0.13\n",
            "Alpha: 0.14\n",
            "Alpha: 0.15000000000000002\n",
            "Alpha: 0.16\n",
            "Alpha: 0.17\n",
            "Alpha: 0.18000000000000002\n",
            "Alpha: 0.19\n",
            "Alpha: 0.2\n",
            "Alpha: 0.21000000000000002\n",
            "Alpha: 0.22\n",
            "Alpha: 0.23\n",
            "Alpha: 0.24000000000000002\n",
            "Alpha: 0.25\n",
            "Alpha: 0.26\n",
            "Alpha: 0.27\n",
            "Alpha: 0.28\n",
            "Alpha: 0.29000000000000004\n",
            "Alpha: 0.3\n",
            "Alpha: 0.31\n",
            "Alpha: 0.32\n",
            "Alpha: 0.33\n",
            "Alpha: 0.34\n",
            "Alpha: 0.35000000000000003\n",
            "Alpha: 0.36000000000000004\n",
            "Alpha: 0.37\n",
            "Alpha: 0.38\n",
            "Alpha: 0.39\n",
            "Alpha: 0.4\n",
            "Alpha: 0.41000000000000003\n",
            "Alpha: 0.42000000000000004\n",
            "Alpha: 0.43\n",
            "Alpha: 0.44\n",
            "Alpha: 0.45\n",
            "Alpha: 0.46\n",
            "Alpha: 0.47000000000000003\n",
            "Alpha: 0.48000000000000004\n",
            "Alpha: 0.49\n",
            "Alpha: 0.5\n"
          ]
        }
      ],
      "source": [
        "all_trials_xgboost = []\n",
        "cvg_uncertainty_model = []\n",
        "\n",
        "alpha = np.linspace(0.01, 0.5, 50)\n",
        "\n",
        "for i in alpha:\n",
        "    print(f\"Alpha: {i}\")\n",
        "    trials = get_coverage_xgboost(i)\n",
        "    cvg_uncertainty_model.append(trials.mean())\n",
        "    all_trials_xgboost.append(trials)\n"
      ]
    },
    {
      "cell_type": "markdown",
      "id": "I20M0pYR-tnT",
      "metadata": {
        "id": "I20M0pYR-tnT"
      },
      "source": [
        "### Plot comparison of deviation"
      ]
    },
    {
      "cell_type": "code",
      "execution_count": 28,
      "id": "56KQBiid-yMf",
      "metadata": {
        "colab": {
          "base_uri": "https://localhost:8080/",
          "height": 683
        },
        "id": "56KQBiid-yMf",
        "outputId": "cbd1753b-bcf2-4812-9ce8-c36b173b082a"
      },
      "outputs": [
        {
          "data": {
            "image/png": "[encoded data removed]",
            "text/plain": [
              "<Figure size 1000x600 with 1 Axes>"
            ]
          },
          "metadata": {},
          "output_type": "display_data"
        }
      ],
      "source": [
        "import matplotlib.pyplot as plt\n",
        "import seaborn as sns\n",
        "import numpy as np\n",
        "\n",
        "# Compute deviations from ideal coverage\n",
        "deviation_uncertainty = np.array(cvg_uncertainty_model) - (1 - alpha)\n",
        "deviation_xgboost = np.array([np.mean(trials) for trials in all_trials_xgboost]) - (1 - alpha)\n",
        "\n",
        "# Plot settings\n",
        "sns.set(style=\"whitegrid\", context=\"talk\")\n",
        "plt.figure(figsize=(10, 6))\n",
        "\n",
        "# Plot deviations\n",
        "plt.plot(alpha, deviation_uncertainty, label='Uncertainty Model (Neural Net)', marker='o', linewidth=2, color='darkorange')\n",
        "plt.plot(alpha, deviation_xgboost, label='XGBoost', marker='s', linewidth=2, color='steelblue')\n",
        "\n",
        "# Reference line at 0 (perfect coverage)\n",
        "plt.axhline(0, color='black', linestyle='--', linewidth=2, label='Ideal (0 deviation)')\n",
        "\n",
        "# Axis labels and title\n",
        "plt.xlabel('α (Significance Level)', fontsize=14)\n",
        "plt.ylabel('Coverage − (1 − α)', fontsize=14)\n",
        "plt.title('Deviation from Ideal Coverage vs. Significance Level', fontsize=16)\n",
        "\n",
        "# Ticks and grid\n",
        "plt.xticks(fontsize=12)\n",
        "plt.yticks(fontsize=12)\n",
        "plt.grid(True, linestyle='--', alpha=0.7)\n",
        "\n",
        "# Legend\n",
        "plt.legend(fontsize=12, loc='upper right')\n",
        "\n",
        "# Save and show\n",
        "plt.tight_layout()\n",
        "plt.savefig(\"Images/deviation_from_ideal_coverage.png\", dpi=300)\n",
        "plt.show()\n"
      ]
    },
    {
      "cell_type": "markdown",
      "id": "ab1f0f94",
      "metadata": {
        "id": "ab1f0f94"
      },
      "source": [
        "### Jackknife, Jackknife+ Method - Full Conformal Prediction"
      ]
    },
    {
      "cell_type": "code",
      "execution_count": 14,
      "id": "c2dc01c9",
      "metadata": {
        "id": "c2dc01c9"
      },
      "outputs": [],
      "source": [
        "X_train_bias = torch.cat([X_train, torch.ones((X_train.shape[0], 1), device=device)], dim=1)\n",
        "X_test_bias = torch.cat([X_test, torch.ones((X_test.shape[0], 1), device=device)], dim=1)\n",
        "\n",
        "# Compute (X^T X)^-1 X^T y using torch\n",
        "A = X_train_bias.T @ X_train_bias            # X^T X\n",
        "A_inv = torch.inverse(A)                     # (X^T X)^-1\n",
        "w = A_inv @ X_train_bias.T @ y_train         # (X^T X)^-1 X^T y"
      ]
    },
    {
      "cell_type": "code",
      "execution_count": 15,
      "id": "f7c8be88",
      "metadata": {
        "id": "f7c8be88"
      },
      "outputs": [],
      "source": [
        "score_array = torch.zeros(X_train_bias.shape[0], dtype=torch.float32)\n",
        "\n",
        "for i in range(len(X_train_bias)):\n",
        "    x = X_train_bias[i].unsqueeze(0)  # Shape: (1, D)\n",
        "    y = y_train[i]\n",
        "\n",
        "    # x: (1, D), x.T: (D, 1), A_inv: (D, D)\n",
        "    numerator = A_inv @ x.T @ x @ A_inv\n",
        "    denominator = 1 - (x @ A_inv @ x.T)\n",
        "\n",
        "    if denominator.item() == 0:\n",
        "        y_pred = x @ w\n",
        "        score_array[i] = torch.abs(y_pred - y)\n",
        "    else:\n",
        "        A_inv_new = A_inv + numerator / denominator\n",
        "        residual = y - x @ w\n",
        "        w_new = w - A_inv_new @ x.T @ residual\n",
        "        y_pred = x @ w_new\n",
        "        score_array[i] = torch.abs(y_pred - y)"
      ]
    },
    {
      "cell_type": "markdown",
      "id": "1bfd83da",
      "metadata": {
        "id": "1bfd83da"
      },
      "source": [
        "Refer to Sherman-Morrison Update to add and remove efficiently in Linear Regression"
      ]
    },
    {
      "cell_type": "code",
      "execution_count": 16,
      "id": "8c9d6417",
      "metadata": {
        "id": "8c9d6417"
      },
      "outputs": [],
      "source": [
        "def getCvgJackknife(alpha):\n",
        "    # Compute quantile index and value using PyTorch\n",
        "    index = math.ceil((len(score_array) + 1) * (1 - alpha)) / len(score_array)\n",
        "    q_hat = torch.quantile(score_array, torch.tensor(index, dtype=torch.float32))\n",
        "\n",
        "    # Predict with the linear model\n",
        "    y_test_pred = X_test_bias @ w\n",
        "\n",
        "    # Compute coverage\n",
        "    coverage = (y_test >= (y_test_pred - q_hat)) & (y_test <= (y_test_pred + q_hat))\n",
        "    coverage_percentage = coverage.float().mean() * 100\n",
        "\n",
        "    return coverage_percentage"
      ]
    },
    {
      "cell_type": "code",
      "execution_count": 17,
      "id": "9067e740",
      "metadata": {
        "id": "9067e740"
      },
      "outputs": [],
      "source": [
        "def getCvgJackknife_plus(alpha):\n",
        "    score_dict = [[] for _ in range(len(X_test_bias))]\n",
        "\n",
        "    for i in range(len(X_train_bias)):\n",
        "        x = X_train_bias[i].unsqueeze(0)  # Shape: (1, D)\n",
        "        y = y_train[i].unsqueeze(0)       # Shape: (1,)\n",
        "\n",
        "        denominator = 1 - (x @ A_inv @ x.T)\n",
        "        if denominator.item() == 0:\n",
        "            w_new = w\n",
        "        else:\n",
        "            numerator = A_inv @ x.T @ x @ A_inv\n",
        "            A_inv_new = A_inv + numerator / denominator\n",
        "            residual = y - x @ w\n",
        "            w_new = w - A_inv_new @ x.T @ residual\n",
        "\n",
        "        for j in range(len(X_test_bias)):\n",
        "            test_pred = X_test_bias[j].unsqueeze(0) @ w_new\n",
        "            score = torch.abs(test_pred - score_array[i])\n",
        "            score_dict[j].append(score.item())\n",
        "\n",
        "    coverage = 0\n",
        "    for i in range(len(X_test_bias)):\n",
        "        scores = torch.tensor(score_dict[i])\n",
        "        n = len(scores)\n",
        "\n",
        "        index_up = math.ceil((n + 1) * (1 - alpha)) / n\n",
        "        index_low = math.floor((n + 1) * alpha) / n\n",
        "\n",
        "        q_lower = torch.quantile(scores, q=index_low)\n",
        "        q_upper = torch.quantile(scores, q=index_up)\n",
        "\n",
        "        y_pred = X_test_bias[i].unsqueeze(0) @ w\n",
        "        y_actual = y_test[i]\n",
        "\n",
        "        lower_bound = y_pred - q_upper\n",
        "        upper_bound = y_pred + q_lower\n",
        "\n",
        "        if (y_actual >= lower_bound) and (y_actual <= upper_bound):\n",
        "            coverage += 1\n",
        "\n",
        "    coverage_percentage = (coverage / len(X_test_bias)) * 100\n",
        "    return coverage_percentage"
      ]
    },
    {
      "cell_type": "code",
      "execution_count": 18,
      "id": "b3456c2f",
      "metadata": {
        "id": "b3456c2f"
      },
      "outputs": [],
      "source": [
        "# getCvgJackknife(0.1)"
      ]
    },
    {
      "cell_type": "code",
      "execution_count": 19,
      "id": "e4c6d4dc",
      "metadata": {
        "id": "e4c6d4dc"
      },
      "outputs": [],
      "source": [
        "# getCvgJackknife_plus(0.1)"
      ]
    }
  ],
  "metadata": {
    "colab": {
      "gpuType": "T4",
      "provenance": []
    },
    "kernelspec": {
      "display_name": "myenv",
      "language": "python",
      "name": "python3"
    },
    "language_info": {
      "codemirror_mode": {
        "name": "ipython",
        "version": 3
      },
      "file_extension": ".py",
      "mimetype": "text/x-python",
      "name": "python",
      "nbconvert_exporter": "python",
      "pygments_lexer": "ipython3",
      "version": "3.12.3"
    }
  },
  "nbformat": 4,
  "nbformat_minor": 5
}
