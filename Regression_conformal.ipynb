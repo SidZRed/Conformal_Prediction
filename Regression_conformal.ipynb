{
 "cells": [
  {
   "cell_type": "code",
   "execution_count": 70,
   "id": "fc02f6cd-c5a6-4ee7-bb26-0ded470d2e61",
   "metadata": {},
   "outputs": [],
   "source": [
    "from sklearn.datasets import fetch_california_housing\n",
    "from sklearn.model_selection import train_test_split\n",
    "import numpy as np\n",
    "import torch\n",
    "import torch.optim as optim\n",
    "import tensorflow as tf\n",
    "tf.config.set_visible_devices([], 'GPU')\n",
    "from tensorflow.keras import layers, models\n",
    "import torch\n",
    "import numpy as np\n",
    "import math\n",
    "\n",
    "# Load dataset\n",
    "data = fetch_california_housing()\n",
    "X, y = data.data, data.target  # Features and target\n",
    "\n",
    "# Shuffle and split data\n",
    "X, y = np.random.permutation(X), np.random.permutation(y)\n",
    "X_train, X_test, y_train, y_test = train_test_split(X, y, test_size=0.2, random_state=42)\n"
   ]
  },
  {
   "cell_type": "code",
   "execution_count": 71,
   "id": "ff909690",
   "metadata": {},
   "outputs": [],
   "source": [
    "#created the calibration set and the proper training set\n",
    "X_cal = X_train[-1000:]\n",
    "y_cal = y_train[-1000:]\n",
    "X_proper_train = X_train[:-1000]\n",
    "y_proper_train = y_train[:-1000]\n",
    "\n",
    "X_proper_train = torch.tensor(X_proper_train, dtype=torch.float32)\n",
    "y_proper_train = torch.tensor(y_proper_train, dtype=torch.float32).view(-1, 1)\n",
    "\n",
    "X_cal = torch.tensor(X_cal, dtype=torch.float32)\n",
    "y_cal = torch.tensor(y_cal, dtype=torch.float32).view(-1, 1)\n",
    "\n",
    "X_test = torch.tensor(X_test, dtype=torch.float32)\n",
    "y_test = torch.tensor(y_test, dtype=torch.float32).view(-1, 1)\n"
   ]
  },
  {
   "cell_type": "code",
   "execution_count": 72,
   "id": "10c0aee4",
   "metadata": {},
   "outputs": [],
   "source": [
    "def quantile_loss(y_pred, y_true, tau):\n",
    "    errors = y_true - y_pred\n",
    "    return torch.mean(torch.max(tau * errors, (tau - 1) * errors))\n"
   ]
  },
  {
   "cell_type": "code",
   "execution_count": 73,
   "id": "5365e319",
   "metadata": {},
   "outputs": [],
   "source": [
    "# Model parameters: Weight and Bias\n",
    "def get_coverage_quantile_regression(alpha):\n",
    "    input_dim = X_proper_train.shape[1]\n",
    "    W_lower = torch.randn((input_dim, 1), requires_grad=True, dtype=torch.float32)\n",
    "    b_lower = torch.zeros(1, requires_grad=True, dtype=torch.float32)\n",
    "\n",
    "    W_upper = torch.randn((input_dim, 1), requires_grad=True, dtype=torch.float32)\n",
    "    b_upper = torch.zeros(1, requires_grad=True, dtype=torch.float32)\n",
    "\n",
    "    # Hyperparameters\n",
    "    taus = [alpha / 2, 1 - alpha / 2]  # Lower and Upper Quantiles\n",
    "    epochs = 500\n",
    "    lr = 0.01\n",
    "\n",
    "    # Optimizers\n",
    "    opt_lower = optim.Adam([W_lower, b_lower], lr=lr)\n",
    "    opt_upper = optim.Adam([W_upper, b_upper], lr=lr)\n",
    "\n",
    "    for epoch in range(epochs):\n",
    "        # Lower Quantile Model (tau = alpha/2)\n",
    "        opt_lower.zero_grad()\n",
    "        y_pred_lower = torch.matmul(X_proper_train, W_lower) + b_lower\n",
    "        loss_lower = quantile_loss(y_pred_lower, y_proper_train, taus[0])\n",
    "        loss_lower.backward()\n",
    "        opt_lower.step()\n",
    "\n",
    "        # Upper Quantile Model (tau = 1-alpha/2)\n",
    "        opt_upper.zero_grad()\n",
    "        y_pred_upper = torch.matmul(X_proper_train, W_upper) + b_upper\n",
    "        loss_upper = quantile_loss(y_pred_upper, y_proper_train, taus[1])\n",
    "        loss_upper.backward()\n",
    "        opt_upper.step()\n",
    "\n",
    "    y_lower_pred = torch.matmul(X_cal, W_lower).detach()\n",
    "    y_upper_pred = torch.matmul(X_cal, W_upper).detach()\n",
    "\n",
    "    score_array = torch.maximum(y_lower_pred - y_cal, y_cal - y_upper_pred)\n",
    "    # Compute the quantile index\n",
    "    import math\n",
    "    n = score_array.shape[0]\n",
    "    quantile_index = math.ceil((n + 1) * (1 - alpha)) / n\n",
    "\n",
    "    # Compute the required quantile\n",
    "    q_hat = torch.quantile(score_array, quantile_index)\n",
    "    y_lower_pred_test = torch.matmul(torch.tensor(X_test, dtype=torch.float32), W_lower).detach()\n",
    "    y_upper_pred_test = torch.matmul(torch.tensor(X_test, dtype=torch.float32), W_upper).detach()\n",
    "\n",
    "\n",
    "    covered = (y_test >= (y_lower_pred_test - q_hat)) & (y_test <= (y_upper_pred_test + q_hat))\n",
    "\n",
    "    coverage_percentage = covered.float().mean().item() * 100\n",
    "\n",
    "    return coverage_percentage\n",
    "\n"
   ]
  },
  {
   "cell_type": "code",
   "execution_count": 74,
   "id": "e06ff6dd",
   "metadata": {},
   "outputs": [
    {
     "name": "stderr",
     "output_type": "stream",
     "text": [
      "/tmp/ipykernel_20413/2370866926.py:45: UserWarning: To copy construct from a tensor, it is recommended to use sourceTensor.clone().detach() or sourceTensor.clone().detach().requires_grad_(True), rather than torch.tensor(sourceTensor).\n",
      "  y_lower_pred_test = torch.matmul(torch.tensor(X_test, dtype=torch.float32), W_lower).detach()\n",
      "/tmp/ipykernel_20413/2370866926.py:46: UserWarning: To copy construct from a tensor, it is recommended to use sourceTensor.clone().detach() or sourceTensor.clone().detach().requires_grad_(True), rather than torch.tensor(sourceTensor).\n",
      "  y_upper_pred_test = torch.matmul(torch.tensor(X_test, dtype=torch.float32), W_upper).detach()\n"
     ]
    },
    {
     "data": {
      "text/plain": [
       "90.14050364494324"
      ]
     },
     "execution_count": 74,
     "metadata": {},
     "output_type": "execute_result"
    }
   ],
   "source": [
    "get_coverage_quantile_regression(0.1)"
   ]
  },
  {
   "cell_type": "markdown",
   "id": "e0672d13",
   "metadata": {},
   "source": [
    "### Uncertainty Estimate Method"
   ]
  },
  {
   "cell_type": "code",
   "execution_count": 81,
   "id": "8e94f747",
   "metadata": {},
   "outputs": [],
   "source": [
    "def get_coverage_uncertainty_model(alpha):\n",
    "    def build_point_predictor(input_shape):\n",
    "        model = models.Sequential()\n",
    "        model.add(layers.InputLayer(input_shape=(input_shape,)))  # Correct input shape as a tuple\n",
    "        model.add(layers.Dense(32, activation='relu'))\n",
    "        model.add(layers.Dense(16, activation='relu'))\n",
    "        model.add(layers.Dense(1))  # Output layer for regression (point prediction)\n",
    "        model.compile(optimizer='adam', loss='mse')\n",
    "        return model\n",
    "\n",
    "    # Define the Uncertainty Predictor Model (Residual Model)\n",
    "    def build_uncertainty_predictor(input_shape):\n",
    "        model = models.Sequential()\n",
    "        model.add(layers.InputLayer(input_shape=(input_shape,)))  # Correct input shape as a tuple\n",
    "        model.add(layers.Dense(32, activation='relu'))\n",
    "        model.add(layers.Dense(16, activation='relu'))\n",
    "        model.add(layers.Dense(1))  # Output layer for estimating the uncertainty (residual)\n",
    "        model.compile(optimizer='adam', loss='mse')\n",
    "        return model\n",
    "\n",
    "    # Build Point Predictor Model\n",
    "    point_model = build_point_predictor(X_proper_train.shape[1])  # Correct shape usage\n",
    "    point_model.fit(X_proper_train, y_proper_train, epochs=50, batch_size=16, verbose=0)\n",
    "\n",
    "    # Get the Point Predictions\n",
    "    y_hat_train = point_model.predict(X_proper_train)\n",
    "\n",
    "    residuals_train = abs(y_proper_train - y_hat_train)\n",
    "\n",
    "    uncertainty_model = build_uncertainty_predictor(X_proper_train.shape[1])  # Correct shape usage\n",
    "    uncertainty_model.fit(X_proper_train, residuals_train, epochs=50, batch_size=16, verbose=0)\n",
    "\n",
    "    #get scores for calibration data set\n",
    "    y_hat_calib = point_model.predict(X_cal)\n",
    "    residuals_calib = abs(y_cal - y_hat_calib)\n",
    "    uncertainty_scores = uncertainty_model.predict(X_cal)\n",
    "\n",
    "    scores = np.divide(residuals_calib, uncertainty_scores)\n",
    "    n = scores.shape[0]\n",
    "    quantile_index = math.ceil((n + 1) * (1 - alpha)) / n\n",
    "    q_hat = np.quantile(scores, quantile_index)\n",
    "    y_hat_test = point_model.predict(X_test)\n",
    "    uncertainty_scores_test = uncertainty_model.predict(X_test)\n",
    "    y_test_t = y_test.numpy()\n",
    "    covered = (y_test_t >= (y_hat_test - q_hat * uncertainty_scores_test)) & (y_test_t <= (y_hat_test + q_hat * uncertainty_scores_test))\n",
    "    coverage_percentage = covered.mean() * 100\n",
    "    return coverage_percentage\n",
    "    \n"
   ]
  },
  {
   "cell_type": "code",
   "execution_count": 82,
   "id": "2a5a2e08",
   "metadata": {},
   "outputs": [
    {
     "name": "stderr",
     "output_type": "stream",
     "text": [
      "/home/adithyakanil/myenv/lib/python3.12/site-packages/keras/src/layers/core/input_layer.py:27: UserWarning: Argument `input_shape` is deprecated. Use `shape` instead.\n",
      "  warnings.warn(\n"
     ]
    },
    {
     "name": "stdout",
     "output_type": "stream",
     "text": [
      "\u001b[1m485/485\u001b[0m \u001b[32m━━━━━━━━━━━━━━━━━━━━\u001b[0m\u001b[37m\u001b[0m \u001b[1m0s\u001b[0m 439us/step\n"
     ]
    },
    {
     "name": "stderr",
     "output_type": "stream",
     "text": [
      "/tmp/ipykernel_20413/3115677728.py:28: DeprecationWarning: __array_wrap__ must accept context and return_scalar arguments (positionally) in the future. (Deprecated NumPy 2.0)\n",
      "  residuals_train = abs(y_proper_train - y_hat_train)\n"
     ]
    },
    {
     "name": "stdout",
     "output_type": "stream",
     "text": [
      "\u001b[1m32/32\u001b[0m \u001b[32m━━━━━━━━━━━━━━━━━━━━\u001b[0m\u001b[37m\u001b[0m \u001b[1m0s\u001b[0m 2ms/step\n",
      "\u001b[1m32/32\u001b[0m \u001b[32m━━━━━━━━━━━━━━━━━━━━\u001b[0m\u001b[37m\u001b[0m \u001b[1m0s\u001b[0m 3ms/step\n",
      "\u001b[1m  1/129\u001b[0m \u001b[37m━━━━━━━━━━━━━━━━━━━━\u001b[0m \u001b[1m1s\u001b[0m 9ms/step"
     ]
    },
    {
     "name": "stderr",
     "output_type": "stream",
     "text": [
      "/tmp/ipykernel_20413/3115677728.py:35: DeprecationWarning: __array_wrap__ must accept context and return_scalar arguments (positionally) in the future. (Deprecated NumPy 2.0)\n",
      "  residuals_calib = abs(y_cal - y_hat_calib)\n",
      "/tmp/ipykernel_20413/3115677728.py:38: DeprecationWarning: __array_wrap__ must accept context and return_scalar arguments (positionally) in the future. (Deprecated NumPy 2.0)\n",
      "  scores = np.divide(residuals_calib, uncertainty_scores)\n"
     ]
    },
    {
     "name": "stdout",
     "output_type": "stream",
     "text": [
      "\u001b[1m129/129\u001b[0m \u001b[32m━━━━━━━━━━━━━━━━━━━━\u001b[0m\u001b[37m\u001b[0m \u001b[1m0s\u001b[0m 373us/step\n",
      "\u001b[1m129/129\u001b[0m \u001b[32m━━━━━━━━━━━━━━━━━━━━\u001b[0m\u001b[37m\u001b[0m \u001b[1m0s\u001b[0m 348us/step\n"
     ]
    },
    {
     "data": {
      "text/plain": [
       "np.float64(50.775193798449614)"
      ]
     },
     "execution_count": 82,
     "metadata": {},
     "output_type": "execute_result"
    }
   ],
   "source": [
    "get_coverage_uncertainty_model(0.5)"
   ]
  },
  {
   "cell_type": "code",
   "execution_count": 84,
   "id": "7e854906",
   "metadata": {},
   "outputs": [],
   "source": [
    "import xgboost as xgb\n",
    "import numpy as np\n",
    "import math\n",
    "\n",
    "def get_coverage_xgboost(alpha):\n",
    "    # Train an XGBoost model for Point Prediction\n",
    "    def build_point_predictor():\n",
    "        model = xgb.XGBRegressor(n_estimators=100, max_depth=6, learning_rate=0.1)\n",
    "        return model\n",
    "\n",
    "    # Train the Point Predictor Model\n",
    "    point_model = build_point_predictor()\n",
    "    point_model.fit(X_proper_train, y_proper_train)\n",
    "\n",
    "    # Get the Point Predictions\n",
    "    y_hat_train = point_model.predict(X_proper_train)\n",
    "\n",
    "    # Calculate residuals (absolute difference between predicted and true values)\n",
    "    residuals_train = np.abs(y_proper_train - y_hat_train)\n",
    "\n",
    "    # For Uncertainty estimation: We use the leaf variance from the trees in XGBoost\n",
    "    leaf_preds_train = point_model.apply(X_proper_train)  # Get the leaf indices for each sample\n",
    "    uncertainty_scores = np.std(leaf_preds_train, axis=1)  # Standard deviation of the leaf predictions\n",
    "\n",
    "    # Train on Calibration Data\n",
    "    y_hat_calib = point_model.predict(X_cal)\n",
    "    residuals_calib = np.abs(y_cal - y_hat_calib)\n",
    "    leaf_preds_calib = point_model.apply(X_cal)\n",
    "    uncertainty_scores_calib = np.std(leaf_preds_calib, axis=1)\n",
    "\n",
    "    # Calculate scores and quantile for uncertainty adjustment\n",
    "    scores = np.divide(residuals_calib, uncertainty_scores_calib)\n",
    "    n = scores.shape[0]\n",
    "    quantile_index = math.ceil((n + 1) * (1 - alpha)) / n\n",
    "    q_hat = np.quantile(scores, quantile_index)\n",
    "\n",
    "    # Get Predictions for Test Data\n",
    "    y_hat_test = point_model.predict(X_test)\n",
    "    leaf_preds_test = point_model.apply(X_test)\n",
    "    uncertainty_scores_test = np.std(leaf_preds_test, axis=1)\n",
    "\n",
    "    # Calculate coverage\n",
    "    lower_bound = y_hat_test - q_hat * uncertainty_scores_test\n",
    "    upper_bound = y_hat_test + q_hat * uncertainty_scores_test\n",
    "    covered = (y_test.numpy() >= lower_bound) & (y_test.numpy() <= upper_bound)\n",
    "    coverage_percentage = covered.mean() * 100\n",
    "\n",
    "    return coverage_percentage\n"
   ]
  },
  {
   "cell_type": "code",
   "execution_count": 93,
   "id": "ed277519",
   "metadata": {},
   "outputs": [
    {
     "name": "stderr",
     "output_type": "stream",
     "text": [
      "/tmp/ipykernel_20413/3619048939.py:19: DeprecationWarning: __array_wrap__ must accept context and return_scalar arguments (positionally) in the future. (Deprecated NumPy 2.0)\n",
      "  residuals_train = np.abs(y_proper_train - y_hat_train)\n",
      "/tmp/ipykernel_20413/3619048939.py:27: DeprecationWarning: __array_wrap__ must accept context and return_scalar arguments (positionally) in the future. (Deprecated NumPy 2.0)\n",
      "  residuals_calib = np.abs(y_cal - y_hat_calib)\n",
      "/tmp/ipykernel_20413/3619048939.py:32: DeprecationWarning: __array_wrap__ must accept context and return_scalar arguments (positionally) in the future. (Deprecated NumPy 2.0)\n",
      "  scores = np.divide(residuals_calib, uncertainty_scores_calib)\n"
     ]
    },
    {
     "data": {
      "text/plain": [
       "np.float64(50.606418259119046)"
      ]
     },
     "execution_count": 93,
     "metadata": {},
     "output_type": "execute_result"
    }
   ],
   "source": [
    "get_coverage_xgboost(0.5)"
   ]
  },
  {
   "cell_type": "code",
   "execution_count": 100,
   "id": "9d7b8a70",
   "metadata": {},
   "outputs": [
    {
     "name": "stderr",
     "output_type": "stream",
     "text": [
      "/tmp/ipykernel_20413/2370866926.py:45: UserWarning: To copy construct from a tensor, it is recommended to use sourceTensor.clone().detach() or sourceTensor.clone().detach().requires_grad_(True), rather than torch.tensor(sourceTensor).\n",
      "  y_lower_pred_test = torch.matmul(torch.tensor(X_test, dtype=torch.float32), W_lower).detach()\n",
      "/tmp/ipykernel_20413/2370866926.py:46: UserWarning: To copy construct from a tensor, it is recommended to use sourceTensor.clone().detach() or sourceTensor.clone().detach().requires_grad_(True), rather than torch.tensor(sourceTensor).\n",
      "  y_upper_pred_test = torch.matmul(torch.tensor(X_test, dtype=torch.float32), W_upper).detach()\n",
      "/tmp/ipykernel_20413/3619048939.py:19: DeprecationWarning: __array_wrap__ must accept context and return_scalar arguments (positionally) in the future. (Deprecated NumPy 2.0)\n",
      "  residuals_train = np.abs(y_proper_train - y_hat_train)\n",
      "/tmp/ipykernel_20413/3619048939.py:27: DeprecationWarning: __array_wrap__ must accept context and return_scalar arguments (positionally) in the future. (Deprecated NumPy 2.0)\n",
      "  residuals_calib = np.abs(y_cal - y_hat_calib)\n",
      "/tmp/ipykernel_20413/3619048939.py:32: DeprecationWarning: __array_wrap__ must accept context and return_scalar arguments (positionally) in the future. (Deprecated NumPy 2.0)\n",
      "  scores = np.divide(residuals_calib, uncertainty_scores_calib)\n"
     ]
    },
    {
     "data": {
      "image/png": "[encoded data removed]",
      "text/plain": [
       "<Figure size 640x480 with 1 Axes>"
      ]
     },
     "metadata": {},
     "output_type": "display_data"
    }
   ],
   "source": [
    "alpha = np.linspace(0.01, 0.50, 50)\n",
    "coverage_quantile = []\n",
    "coverage_xgboost = []\n",
    "base = []\n",
    "\n",
    "for a in alpha:\n",
    "\tcoverage_quantile.append(get_coverage_quantile_regression(a))\n",
    "\tcoverage_xgboost.append(get_coverage_xgboost(a))\n",
    "\tbase.append((1-a)*100)\n",
    "import matplotlib.pyplot as plt\n",
    "\n",
    "plt.plot(alpha, coverage_quantile, label='Quantile Regression')\n",
    "plt.plot(alpha, coverage_xgboost, label='XGBoost')\n",
    "plt.plot(alpha, base, label='Lower bound', linestyle='--')\n",
    "\n",
    "plt.xlabel('Alpha')\n",
    "plt.ylabel('Coverage Percentage')\n",
    "plt.title('Coverage Percentage vs Alpha')\n",
    "plt.legend()\n",
    "plt.grid()\n",
    "plt.show()\n"
   ]
  }
 ],
 "metadata": {
  "kernelspec": {
   "display_name": "myenv",
   "language": "python",
   "name": "python3"
  },
  "language_info": {
   "codemirror_mode": {
    "name": "ipython",
    "version": 3
   },
   "file_extension": ".py",
   "mimetype": "text/x-python",
   "name": "python",
   "nbconvert_exporter": "python",
   "pygments_lexer": "ipython3",
   "version": "3.12.3"
  }
 },
 "nbformat": 4,
 "nbformat_minor": 5
}
